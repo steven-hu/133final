{
 "metadata": {
  "name": ""
 },
 "nbformat": 3,
 "nbformat_minor": 0,
 "worksheets": [
  {
   "cells": [
    {
     "cell_type": "heading",
     "level": 1,
     "metadata": {},
     "source": [
      "Homework 10 - R - Functions and classes"
     ]
    },
    {
     "cell_type": "code",
     "collapsed": false,
     "input": [
      "%load_ext rmagic"
     ],
     "language": "python",
     "metadata": {
      "slideshow": {
       "slide_type": "fragment"
      }
     },
     "outputs": [],
     "prompt_number": 1
    },
    {
     "cell_type": "markdown",
     "metadata": {},
     "source": [
      "**Exercise 1**\n",
      "\n",
      "Write three functions with names <code>tmpFn1(x)</code>, <code>tmpFn2(x)</code>, and <code>tmpFn3(x,n)</code> such that if $x$ is the vector $x=(x_1,\\dots, x_n)$, then \n",
      "\n",
      "* <code>tmpFn1(x)</code> returns the vector $(x_1, x_2^2, \\dots, x_n^n)$\n"
     ]
    },
    {
     "cell_type": "code",
     "collapsed": false,
     "input": [
      "%%R \n",
      "\n",
      "tmpFn1 = function(x)\n",
      "{\n",
      "    p = 1:length(x)\n",
      "    return(x^p)\n",
      "}\n",
      "\n",
      "x = rep(2, 10)\n",
      "y = tmpFn1(x)\n",
      "print(y)"
     ],
     "language": "python",
     "metadata": {},
     "outputs": [
      {
       "metadata": {},
       "output_type": "display_data",
       "text": [
        " [1]    2    4    8   16   32   64  128  256  512 1024\n"
       ]
      }
     ],
     "prompt_number": 2
    },
    {
     "cell_type": "markdown",
     "metadata": {},
     "source": [
      "* <code>tmpFn2(x)</code> returns the vector $\\left(x_1, \\frac{x_2^2}2, \\dots, \\frac{x_n^n}n\\right)$"
     ]
    },
    {
     "cell_type": "code",
     "collapsed": false,
     "input": [
      "%%R\n",
      "\n",
      "tmpFn2 = function(x)\n",
      "{\n",
      "    N = 1:length(x)   \n",
      "    return(tmpFn1(x)/N)\n",
      "}\n",
      "\n",
      "print(tmpFn2(x))"
     ],
     "language": "python",
     "metadata": {},
     "outputs": [
      {
       "metadata": {},
       "output_type": "display_data",
       "text": [
        " [1]   2.000000   2.000000   2.666667   4.000000   6.400000  10.666667\n",
        " [7]  18.285714  32.000000  56.888889 102.400000\n"
       ]
      }
     ],
     "prompt_number": 10
    },
    {
     "cell_type": "markdown",
     "metadata": {},
     "source": [
      "Now suppose that $x$ is a single number and $n$ is a positive integer. Write a function <code>tmpFn2(x, n)</code> with two arguments such that"
     ]
    },
    {
     "cell_type": "markdown",
     "metadata": {},
     "source": [
      "* <code>tmpFn3(x, n)</code> returns the value $1+\\frac x1 + \\frac{x^2}2 + \\dots + \\frac{x^n}n$"
     ]
    },
    {
     "cell_type": "code",
     "collapsed": false,
     "input": [
      "%%R\n",
      "\n",
      "tmpFn3 = function(x, n)\n",
      "{\n",
      "    1 + sum((x^(1:n)/(1:n)))\n",
      "}\n",
      "\n",
      "print(tmpFn3(x,4))"
     ],
     "language": "python",
     "metadata": {},
     "outputs": [
      {
       "metadata": {},
       "output_type": "display_data",
       "text": [
        "[1] 26.33333\n"
       ]
      }
     ],
     "prompt_number": 18
    },
    {
     "cell_type": "markdown",
     "metadata": {},
     "source": [
      "**Exercise 2**\n",
      "\n",
      "Write a function <code>tmpFn(x)</code> such that if $x$ is the vector $x=(x_1,\\dots, x_n)$ then <code>tmpFn(x)</code> returns the vector of **moving averages**:\n",
      "\n",
      "$$\\left(\\frac{x_1+x_2+x_3}3,\\,\\frac{x_2+x_3+x_4}3,\\dots,\\,\\frac{x_{n-2}+x_{n-1}+x_n}3\\right)$$"
     ]
    },
    {
     "cell_type": "markdown",
     "metadata": {},
     "source": [
      "**Solution:** A simple solution can be achieved by regarding the vector above as the sum of three vectors\n",
      "\n",
      "$$(x_1,\\dots, x_{n-2}) + (x_2,\\dots, x_{n-1}) + (x_3,\\dots, x_n)$$\n",
      "\n",
      "multiplied by a factor $1/3$."
     ]
    },
    {
     "cell_type": "code",
     "collapsed": false,
     "input": [
      "%%R\n",
      "\n",
      "tmpFn = function(x)\n",
      "{\n",
      "    n = length(x)\n",
      "    1/3*(x[1:(n-2)] + x[2:(n-1)] + x[3:n])\n",
      "}\n",
      "\n",
      "y = tmpFn(rnorm(10)); print(y)"
     ],
     "language": "python",
     "metadata": {},
     "outputs": [
      {
       "metadata": {},
       "output_type": "display_data",
       "text": [
        "[1] -0.14076276 -0.04916368  0.23395512 -0.48560880  0.62001519  0.74002595\n",
        "[7]  0.76005693 -0.66068380\n"
       ]
      }
     ],
     "prompt_number": 20
    },
    {
     "cell_type": "markdown",
     "metadata": {},
     "source": [
      "**Exercise 3**\n",
      "\n",
      "Consider the function\n",
      "\n",
      "$$\n",
      "\\begin{eqnarray}\n",
      "f(x) & = & \\left\\{\n",
      "\\begin{array}\n",
      "ax^2 + 2x + 3 & \\textrm{if}\\quad x < 0\\\\\n",
      "x +3  & \\textrm{if}\\quad 0\\leq x < 2\\\\\n",
      "x^2 + 4x -7 & \\textrm{if}\\quad 2\\leq x\n",
      "\\end{array}\n",
      "\\right.\n",
      "\\end{eqnarray}\n",
      "$$\n",
      "\n",
      "* Write a function <code>tmpFn</code> which takes a numeric vector <code>xVal</code> as input, and returns a vector containing the values of the function $f$ above evaluated at the numbers $x$ contained in the vector <code>xVal</code>."
     ]
    },
    {
     "cell_type": "code",
     "collapsed": false,
     "input": [
      "%%R\n",
      "\n",
      "#Solution using forloops (to avoid in r, or in any language allowing vectorized computing)\n",
      "\n",
      "tmpFn0 = function(x)\n",
      "{\n",
      "    n = length(x)\n",
      "    y = c()\n",
      "    for(i in 1:n){\n",
      "        if(x[i] < 0){\n",
      "            y = c(y, x[i]^2 + 2*x[i] + 3)\n",
      "        } else if(x[i] < 2){ \n",
      "            y = c(y, x[i] + 3)\n",
      "        } else {\n",
      "            y = c(y, x[i]^2 + 4*x[i] -7)\n",
      "        }\n",
      "    }\n",
      "    return(y)\n",
      "}\n",
      "    \n",
      "#A better solution using logical indexing\n",
      "\n",
      "tmpFn1 = function(x)\n",
      "{\n",
      "    c1 = x < 0; c2 = (0 <= x) & (x < 2); c3 = 2 <= x\n",
      "    x[c1] = x[c1]^2 + 2*x[c1] + 3\n",
      "    x[c2] = x[c2] + 3\n",
      "    x[c3] = x[c3]^2 + 4*x[c3] - 7\n",
      "    return(x)\n",
      "}\n",
      "\n",
      "##The best solution using the ifelse function iteratively\n",
      "\n",
      "tmpFn2 = function (x) ifelse(x < 0, x^2 + 2*x +3, ifelse(x < 2, x + 3, x^2 + 4*x - 7))\n",
      "\n",
      "\n",
      "x = rnorm(20, mean=0, sd=10)\n",
      "print(tmpFn0(x))\n",
      "cat('-------------','\\n')\n",
      "print(tmpFn1(x))\n",
      "cat('-------------','\\n')\n",
      "print(tmpFn2(x))"
     ],
     "language": "python",
     "metadata": {},
     "outputs": [
      {
       "metadata": {},
       "output_type": "display_data",
       "text": [
        " [1]   3.524872   7.685914   8.317772 136.303245 495.495577  14.131305\n",
        " [7]  98.154131 152.356013 104.276170  45.012414  98.576528  20.939630\n",
        "[13] 974.760764 364.320995   7.633838  92.924565  40.716847 108.009184\n",
        "[19]  20.219557  76.763958\n",
        "------------- \n",
        " [1]   3.524872   7.685914   8.317772 136.303245 495.495577  14.131305\n",
        " [7]  98.154131 152.356013 104.276170  45.012414  98.576528  20.939630\n",
        "[13] 974.760764 364.320995   7.633838  92.924565  40.716847 108.009184\n",
        "[19]  20.219557  76.763958\n",
        "------------- \n",
        " [1]   3.524872   7.685914   8.317772 136.303245 495.495577  14.131305\n",
        " [7]  98.154131 152.356013 104.276170  45.012414  98.576528  20.939630\n",
        "[13] 974.760764 364.320995   7.633838  92.924565  40.716847 108.009184\n",
        "[19]  20.219557  76.763958\n"
       ]
      }
     ],
     "prompt_number": 59
    },
    {
     "cell_type": "markdown",
     "metadata": {},
     "source": [
      "**Exercise 4**\n",
      "\n",
      "Suppose an angle $\\theta$ is given as a positive real number of degrees. We can associate a quadrant number to angle values in the following way:\n",
      "\n",
      "* if $0\\leq \\theta < 90$ then $\\theta$ is in **quadrant 1**\n",
      "* if $90\\leq \\theta < 180$ then $\\theta$ is in **quadrant 2**\n",
      "* if $180\\leq \\theta < 270$ then $\\theta$ is in **quadrant 3**\n",
      "* if $270\\leq \\theta < 360$ then $\\theta$ is in **quadrant 4**\n",
      "\n",
      "Write a function <code>quadrant(theta)</code> which returns the quadrant of the angle $\\theta$.\n"
     ]
    },
    {
     "cell_type": "code",
     "collapsed": false,
     "input": [
      "%%R\n",
      "\n",
      "#The worst solution: \n",
      "#(1) it works only for scalar (i.e. numeric vectors with one elements!)\n",
      "#(2) it will be confused if theta is not between 0 and 360\n",
      "\n",
      "quandrant0 = function(theta)\n",
      "{\n",
      "    if((0   <= theta) & (theta < 90))   quad = 1\n",
      "    if((90  <= theta) & (theta < 180))  quad = 2\n",
      "    if((180 <= theta) & (theta < 270))  quad = 3\n",
      "    if((270 <= theta) & (theta < 360))  quad = 4\n",
      "    return(quad)\n",
      "}\n",
      "        \n",
      "thetas = c(10, 95, 200, 300)\n",
      "for (theta in thetas) print(quandrant(theta))\n",
      "    \n",
      "#A better solution using the modulo operator %%, the integer division operator %/%, and vectorization\n",
      "\n",
      "quadrant1 = function(theta)\n",
      "{\n",
      "    rescaled.theta = theta%%360                #rescale the angle between 0 and 360 using modulo\n",
      "    quad           = 1 + rescaled.theta%/%90   #find the quadrant using integer division:\n",
      "                                               #e.g. 10%/%90 = 0; 95%/%90 = 1 \n",
      "    return(quad)\n",
      "    \n",
      "}\n",
      "    \n",
      "print(quadrant1(thetas + 360))"
     ],
     "language": "python",
     "metadata": {},
     "outputs": [
      {
       "metadata": {},
       "output_type": "display_data",
       "text": [
        "[1] 1\n",
        "[1] 2\n",
        "[1] 3\n",
        "[1] 4\n",
        "[1] 1 2 3 4\n"
       ]
      }
     ],
     "prompt_number": 71
    },
    {
     "cell_type": "markdown",
     "metadata": {},
     "source": [
      "**Exercise 5**"
     ]
    },
    {
     "cell_type": "markdown",
     "metadata": {},
     "source": [
      "**Zeller\u2019s congruence** is the formula:\n",
      "\n",
      "$$f(d,y,c,m) =([2.6m - 0.2] + d + y + [y/4] + [c/4] - 2c)\\mod 7 $$\n",
      "\n",
      "where $[x]$ denotes the integer part of $x$; for example $[7.5] = 7$.\n",
      "\n",
      "Zeller\u2019s congruence returns the **day of the week** $f(d, y, c, m)$ given:\n",
      "\n",
      "* $d$ = the day of the month,\n",
      "* $y$ = the year in the century\n",
      "* $c$ = the \ufb01rst 2 digits of the year (the century number)\n",
      "* $m$ = the month number (**where January is month 11 of the preceding year, February is month 12 of the preceding year, March is month 1**, etc.)\n",
      "\n",
      "\n",
      "For example, the date \n",
      "\n",
      "* 7/21/1963 has $m = 5$, $d = 21$, $c = 19$, $y = 63$\n",
      "\n",
      "* 2/21/1963 has $m = 12$, $d = 21$, $c = 19$, and $y = 62$.\n",
      "\n",
      "\n",
      "* Write a function <code>weekday(day,month,year)</code> which returns the day of the week when given the numerical inputs of the day, month and year.\n",
      "\n",
      "\n",
      "Note that the value of 1 for $f$ denotes Sunday, 2 denotes Monday, etc."
     ]
    },
    {
     "cell_type": "code",
     "collapsed": false,
     "input": [
      "%%R\n",
      "\n",
      "weekday = function(day, month, year)\n",
      "{\n",
      "    d = day\n",
      "    m = month - 2\n",
      "     if(m <= 0){\n",
      "        m  = m + 12\n",
      "        y  = year - 1\n",
      "    }\n",
      "    y  = year %%  100\n",
      "    c  = year %/% 100\n",
      "    \n",
      "    ZC = (floor(2.6*m - 0.2) + d + y + floor(y/4) + floor(c/4) -2*c) %% 7\n",
      "    \n",
      "    weekdays = c('Sunday', 'Monday', 'Tuesday', 'Wednesday', 'Thursday', 'Friday', 'Saturday')\n",
      "    return(weekdays[ZC + 1])\n",
      "}\n",
      "                   \n",
      "print(weekday(19, 12, 2013))"
     ],
     "language": "python",
     "metadata": {},
     "outputs": [
      {
       "metadata": {},
       "output_type": "display_data",
       "text": [
        "[1] \"Thursday\"\n"
       ]
      }
     ],
     "prompt_number": 101
    },
    {
     "cell_type": "markdown",
     "metadata": {},
     "source": [
      "* Does your function work if the input parameters day, month and year are vectors with the same length and with valid entries?"
     ]
    },
    {
     "cell_type": "markdown",
     "metadata": {},
     "source": [
      "**Solution:** Yes, since the operations used in the body of <code>weekday</code> are vectorized. See below:"
     ]
    },
    {
     "cell_type": "code",
     "collapsed": false,
     "input": [
      "%%R\n",
      "\n",
      "days   = 8:19\n",
      "months = rep(12, length(days))\n",
      "years  = rep(2013,length(days))\n",
      "\n",
      "print(weekday(days, months, years))"
     ],
     "language": "python",
     "metadata": {},
     "outputs": [
      {
       "metadata": {},
       "output_type": "display_data",
       "text": [
        " [1] \"Sunday\"    \"Monday\"    \"Tuesday\"   \"Wednesday\" \"Thursday\"  \"Friday\"   \n",
        " [7] \"Saturday\"  \"Sunday\"    \"Monday\"    \"Tuesday\"   \"Wednesday\" \"Thursday\" \n"
       ]
      }
     ],
     "prompt_number": 106
    },
    {
     "cell_type": "markdown",
     "metadata": {},
     "source": [
      "**Exercise 6**\n",
      "\n",
      "Write a class called <code>employee</code> that has the following attributes\n",
      "\n",
      "* <code>name</code> = employee's name\n",
      "* <code>nhours</code> = number of hours worked per day\n",
      "* <code>ndays</code> = number of days worked per month\n",
      "* <code>hourlywage</code> = the amount of money earned in one hour of work\n",
      "\n",
      "You should write:\n",
      "\n",
      "* the **class contructor** that creates the class instances\n",
      "\n",
      "* a **method** <code>print.employee</code> that displays the employee information nicely formated in a data table (use the function <code>sprintf</code> for that).\n",
      "\n",
      "* a **method** <code>earnings.employee</code> that computes the employee monthly salary\n",
      "\n",
      "* a **generic function** <code>earnings</code> corresponding to the previous method"
     ]
    },
    {
     "cell_type": "code",
     "collapsed": false,
     "input": [
      "%%R\n",
      "\n",
      "employee = function(name='', nhour=0, ndays=0, hourlywage=0)\n",
      "{\n",
      "    object = list(name       = name,\n",
      "                  nhour      = as.numeric(nhour), \n",
      "                  ndays      = as.numeric(ndays), \n",
      "                  hourlywage = as.numeric(hourlywage)\n",
      "                 )\n",
      "    \n",
      "    class(object) = 'employee'\n",
      "    return(object)\n",
      "}"
     ],
     "language": "python",
     "metadata": {},
     "outputs": [],
     "prompt_number": 213
    },
    {
     "cell_type": "markdown",
     "metadata": {},
     "source": [
      "Once done, you should be able to create an instance of your class as follows:\n",
      "\n",
      "    Bob = employee(name='Bob', nhour=5, ndays=20, hourlywage=45)\n",
      "   \n",
      "* Do that in the cell below:"
     ]
    },
    {
     "cell_type": "code",
     "collapsed": false,
     "input": [
      "%%R\n",
      "\n",
      "Bob = employee('Bob', 5, 20, 45)\n",
      "print(Bob)"
     ],
     "language": "python",
     "metadata": {},
     "outputs": [
      {
       "metadata": {},
       "output_type": "display_data",
       "text": [
        "Instance of class employee:\n",
        "\n",
        "Employee Name\tHours per Days\tDays per Month\tHourly Wage \n",
        "Bob       \t5         \t20        \t45.00      \n"
       ]
      }
     ],
     "prompt_number": 183
    },
    {
     "cell_type": "markdown",
     "metadata": {},
     "source": [
      "* Display nicely the employee information using the generic function <code>print</code>:"
     ]
    },
    {
     "cell_type": "code",
     "collapsed": false,
     "input": [
      "%%R\n",
      "\n",
      "#For better modularity, readability, and potential reuse, \n",
      "#we split the printing of different types of information into separate functions\n",
      "\n",
      "displayData.employee = function(object)\n",
      "{\n",
      "    dt.format = '%-10s\\t%-10d\\t%-10d\\t%-10.2f'\n",
      "    data = sprintf(dt.format, \n",
      "                   object$name, \n",
      "                   object$nhour, \n",
      "                   object$ndays, \n",
      "                   object$hourlywage\n",
      "                  )\n",
      "    cat(data,   '\\n')\n",
      "}\n",
      "\n",
      "displayHeader.employee = function(object)\n",
      "{\n",
      "    hd.format = '%-10s\\t%-10s\\t%-10s\\t%s'\n",
      "    header = sprintf(hd.format, \n",
      "                     'Employee Name', \n",
      "                     'Hours per Days', \n",
      "                     'Days per Month', \n",
      "                     'Hourly Wage'\n",
      "                    )\n",
      "    cat(header, '\\n')\n",
      "}\n",
      "\n",
      "print.employee = function(object)\n",
      "{\n",
      "    displayHeader.employee(object)\n",
      "    displayData.employee(object)\n",
      "}"
     ],
     "language": "python",
     "metadata": {},
     "outputs": [],
     "prompt_number": 206
    },
    {
     "cell_type": "code",
     "collapsed": false,
     "input": [
      "%%R\n",
      "\n",
      "print(Bob)"
     ],
     "language": "python",
     "metadata": {},
     "outputs": [
      {
       "metadata": {},
       "output_type": "display_data",
       "text": [
        "Employee Name\tHours per Days\tDays per Month\tHourly Wage \n",
        "Bob       \t5         \t20        \t45.00      \n"
       ]
      }
     ],
     "prompt_number": 207
    },
    {
     "cell_type": "markdown",
     "metadata": {},
     "source": [
      "* Compute the Bob's salary by invoking your generic function <code>earnings(Bob)</code>:"
     ]
    },
    {
     "cell_type": "code",
     "collapsed": false,
     "input": [
      "%%R\n",
      "#method\n",
      "earnings.employee = function(object)\n",
      "{\n",
      "   return(object$nhour * object$ndays * object$hourlywage)\n",
      "}\n",
      "#associated generic function\n",
      "earnings = function(object)\n",
      "{\n",
      "     UseMethod('earnings',object)\n",
      "}"
     ],
     "language": "python",
     "metadata": {},
     "outputs": [],
     "prompt_number": 208
    },
    {
     "cell_type": "code",
     "collapsed": false,
     "input": [
      "%%R\n",
      "\n",
      "x = earnings(Bob)\n",
      "print(x)"
     ],
     "language": "python",
     "metadata": {},
     "outputs": [
      {
       "metadata": {},
       "output_type": "display_data",
       "text": [
        "[1] 4500\n"
       ]
      }
     ],
     "prompt_number": 209
    },
    {
     "cell_type": "markdown",
     "metadata": {},
     "source": [
      "**Exercise 7**\n",
      "\n",
      "Write a class <code>company</code> that has the following attribues:\n",
      "\n",
      "* <code>name</code> = company name\n",
      "* <code>roster</code> = a list of the company's employees\n",
      "* <code>benefits</code> = the total amount of money that the company earned\n",
      "\n",
      "* Write the **class constructor** allowing you to create an object in the following way, given that the variable <code>employees</code> contains a **list** of employees:\n",
      "\n",
      "    CISCO = company(name='CISCO', roster=employees, benefits=500000)\n",
      "    "
     ]
    },
    {
     "cell_type": "code",
     "collapsed": false,
     "input": [
      "%%R\n",
      "\n",
      "company = function(name, roster, benefits)\n",
      "{\n",
      "    object = list(name=name, roster=employees, benefits=as.numeric(benefits))\n",
      "    class(object) = 'company'\n",
      "    return(object)\n",
      "}"
     ],
     "language": "python",
     "metadata": {},
     "outputs": [],
     "prompt_number": 202
    },
    {
     "cell_type": "markdown",
     "metadata": {},
     "source": [
      "* Create a list of employees that you will store in the variable <code>employees</code>, and create the object <code>CISCO</code> as above:"
     ]
    },
    {
     "cell_type": "code",
     "collapsed": false,
     "input": [
      "%%R\n",
      "\n",
      "employees = list(employee(name='Paul Durant', nhour=2, ndays=20, hourlywage=10),\n",
      "              employee(name='Martin Crue', nhour=2, ndays=10, hourlywage=13),\n",
      "              employee(name='Eleonore Di', nhour=2, ndays=20, hourlywage=20),\n",
      "              employee(name='Fred ElCaba', nhour=2, ndays=2, hourlywage=60),\n",
      "              employee(name='Raul Fiente', nhour=2, ndays=2, hourlywage=16),\n",
      "              employee(name='Luc  Cramer', nhour=2, ndays=2, hourlywage=13),\n",
      "              employee(name='Letitia Flo', nhour=2, ndays=30, hourlywage=29),\n",
      "              employee(name='Tro Bicabic', nhour=2, ndays=30, hourlywage=10)\n",
      "              )\n",
      "\n",
      "CISCO = company(name='CISCO', roster=employees, benefits='8000000')"
     ],
     "language": "python",
     "metadata": {},
     "outputs": [],
     "prompt_number": 210
    },
    {
     "cell_type": "markdown",
     "metadata": {},
     "source": [
      "* Write a class method <code>print.company</code> that displays nicely the employee roster in the form of a data table: the rows should be indexed by the employee names, while the column names should be the employee attribute names. Then invoke the generic method <code>print</code> on the object <code>CISCO</code> you have constructed above:"
     ]
    },
    {
     "cell_type": "code",
     "collapsed": false,
     "input": [
      "%%R\n",
      "\n",
      "#adding 2 methods to the class employee to separate data from header while printing\n",
      "\n",
      "print.company = function(object)\n",
      "{\n",
      "    displayHeader.employee(employee())\n",
      "    cat('\\n')\n",
      "    lapply(object$roster, displayData.employee)\n",
      "}\n",
      "\n",
      "print(CISCO)"
     ],
     "language": "python",
     "metadata": {},
     "outputs": [
      {
       "metadata": {},
       "output_type": "display_data",
       "text": [
        "Employee Name\tHours per Days\tDays per Month\tHourly Wage \n",
        "\n",
        "Paul Durant\t2         \t20        \t10.00      \n",
        "Martin Crue\t2         \t10        \t13.00      \n",
        "Eleonore Di\t2         \t20        \t20.00      \n",
        "Fred ElCaba\t2         \t2         \t60.00      \n",
        "Raul Fiente\t2         \t2         \t16.00      \n",
        "Luc  Cramer\t2         \t2         \t13.00      \n",
        "Letitia Flo\t2         \t30        \t29.00      \n",
        "Tro Bicabic\t2         \t30        \t10.00      \n"
       ]
      }
     ],
     "prompt_number": 218
    },
    {
     "cell_type": "markdown",
     "metadata": {},
     "source": [
      "* Write a class method <code>earnings.company</code> that returns the company profit: i.e.,\n",
      "\n",
      "profits = company benefits - amount paid to all the employees in a year"
     ]
    },
    {
     "cell_type": "code",
     "collapsed": false,
     "input": [
      "%%R\n",
      "\n",
      "earnings.company = function(object)\n",
      "{\n",
      "    employee.costs = sapply(object$roster, earnings)\n",
      "    return(object$benefits - sum(employee.costs))\n",
      "}\n"
     ],
     "language": "python",
     "metadata": {},
     "outputs": [],
     "prompt_number": 225
    },
    {
     "cell_type": "markdown",
     "metadata": {},
     "source": [
      "* Invoke the generic function <code>earnings</code> that you wrote in the previous exercise on the object <code>CISCO</code>:"
     ]
    },
    {
     "cell_type": "code",
     "collapsed": false,
     "input": [
      "%%R\n",
      "\n",
      "print(earnings(CISCO))"
     ],
     "language": "python",
     "metadata": {},
     "outputs": [
      {
       "metadata": {},
       "output_type": "display_data",
       "text": [
        "[1] 7995844\n"
       ]
      }
     ],
     "prompt_number": 226
    },
    {
     "cell_type": "markdown",
     "metadata": {},
     "source": [
      "**Exercise 8**\n",
      "\n",
      "* Write a class of your own choosing. Try to make it so nice and useful, that you want to brag about it all the time and to everybody!\n"
     ]
    },
    {
     "cell_type": "code",
     "collapsed": false,
     "input": [],
     "language": "python",
     "metadata": {},
     "outputs": []
    },
    {
     "cell_type": "code",
     "collapsed": false,
     "input": [],
     "language": "python",
     "metadata": {},
     "outputs": []
    }
   ],
   "metadata": {}
  }
 ]
}