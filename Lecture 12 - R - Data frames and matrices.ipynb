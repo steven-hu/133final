{
 "metadata": {
  "name": ""
 },
 "nbformat": 3,
 "nbformat_minor": 0,
 "worksheets": [
  {
   "cells": [
    {
     "cell_type": "markdown",
     "metadata": {
      "slideshow": {
       "slide_type": "fragment"
      }
     },
     "source": [
      "**Lecture outline:**\n",
      "\n",
      "* Data frame basics\n",
      "\n",
      "\n",
      "* Loading data into data frames\n",
      "\n",
      "\n",
      "* Basic statistical operations\n"
     ]
    },
    {
     "cell_type": "code",
     "collapsed": false,
     "input": [
      "%load_ext rmagic"
     ],
     "language": "python",
     "metadata": {
      "slideshow": {
       "slide_type": "fragment"
      }
     },
     "outputs": [],
     "prompt_number": 1
    },
    {
     "cell_type": "heading",
     "level": 2,
     "metadata": {},
     "source": [
      "Data frame basics"
     ]
    },
    {
     "cell_type": "heading",
     "level": 3,
     "metadata": {},
     "source": [
      "Constructing and manipulating data frames"
     ]
    },
    {
     "cell_type": "heading",
     "level": 4,
     "metadata": {},
     "source": [
      "The R <code>data.frame</code> class"
     ]
    },
    {
     "cell_type": "markdown",
     "metadata": {},
     "source": [
      "The central class in R is the class\n",
      "\n",
      "    data.frame\n",
      "that represents data tables in a similar way than that of Pandas DataFrame. \n",
      "\n",
      "**Remark:** The period in the class name <code>data.frame</code> has no programming meaning; it is a mere convention among R programmers, used to group related variables, functions, methods, and classes. (We already saw that convention with the naming of class methods.)\n",
      "\n",
      "As we saw in the last lecture, **classes in R are just \"enhanced lists\"** with\n",
      "\n",
      "* a **class name** stored in the **list hidden \"class string\"**, which is set by using the **<code>class(x)</code> function**\n",
      "\n",
      "\n",
      "* a **class constructor**, which is a **regular function** used to contruct **class instances** (or **objects**) \n",
      "\n",
      "\n",
      "* a collection of **methods** and **generic functions** acting on the class instances\n",
      "\n",
      "Since data frames are R classes, one can think of them as enhanced lists\n",
      "\n",
      "* with the **hidden class string** changed to <code>'data.frame'</code>,\n",
      "\n",
      "\n",
      "* with a **contructor** named <code>data.frame</code>,\n",
      "\n",
      "\n",
      "* with a **collection of methods** and a collections of associated **generic functions**.\n",
      "\n",
      "The **underlying list** of a data frame contains the **vectors** representing the **data table columns** (i.e. the **statistical variables**). \n",
      "\n",
      "One passes these vectors to the data frame constructor to populate its underlying list:"
     ]
    },
    {
     "cell_type": "code",
     "collapsed": false,
     "input": [
      "%%R\n",
      "\n",
      "X = c(a=1, b=2, c=3)\n",
      "Y = c(a=3, b=9, c=1)\n",
      "Z = c(a='u', b='v', c='w')\n",
      "\n",
      "df1 = data.frame(X, Y, Z)\n",
      "\n",
      "print(df1)"
     ],
     "language": "python",
     "metadata": {},
     "outputs": [
      {
       "metadata": {},
       "output_type": "display_data",
       "text": [
        "  X Y Z\n",
        "a 1 3 u\n",
        "b 2 9 v\n",
        "c 3 1 w\n"
       ]
      }
     ],
     "prompt_number": 2
    },
    {
     "cell_type": "heading",
     "level": 4,
     "metadata": {},
     "source": [
      "Data frame transposition"
     ]
    },
    {
     "cell_type": "markdown",
     "metadata": {},
     "source": [
      "One can always transpose a data frame using the **transpose generic function** <code>t(x)</code>:"
     ]
    },
    {
     "cell_type": "code",
     "collapsed": false,
     "input": [
      "%%R\n",
      "\n",
      "print(t(df1))"
     ],
     "language": "python",
     "metadata": {},
     "outputs": [
      {
       "metadata": {},
       "output_type": "display_data",
       "text": [
        "  a   b   c  \n",
        "X \"1\" \"2\" \"3\"\n",
        "Y \"3\" \"9\" \"1\"\n",
        "Z \"u\" \"v\" \"w\"\n"
       ]
      }
     ],
     "prompt_number": 12
    },
    {
     "cell_type": "markdown",
     "metadata": {},
     "source": [
      "**Remark:** In a data frame, the **values in a given column** should all be of the **same type**. \n",
      "**After transposition**, some column values may end up beeing of different types. In this case, all the **column values will be converted (casted, or coerced) to a matching type** (in the example above: character vectors, since it is possible to cast a number into a string ('1' instead of 1), but the opposite operation does not make sense."
     ]
    },
    {
     "cell_type": "heading",
     "level": 4,
     "metadata": {},
     "source": [
      "Adding new observations to an existing data frame"
     ]
    },
    {
     "cell_type": "markdown",
     "metadata": {},
     "source": [
      "Suppose we have two data frames, representing **two samples** of the **same population** for **the same variables**. For instance, the data frame <code>df1</code> above and the following new one:"
     ]
    },
    {
     "cell_type": "code",
     "collapsed": false,
     "input": [
      "%%R\n",
      "\n",
      "X = c(d=12, e=12, f=63)\n",
      "Y = c(d=33, e=96, f=0)\n",
      "Z = c(d='k', e='l', f='m')\n",
      "\n",
      "df2 = data.frame(X, Y, Z)\n",
      "\n",
      "print(df2)"
     ],
     "language": "python",
     "metadata": {},
     "outputs": [
      {
       "metadata": {},
       "output_type": "display_data",
       "text": [
        "   X  Y Z\n",
        "d 12 33 k\n",
        "e 12 96 l\n",
        "f 63  0 m\n"
       ]
      }
     ],
     "prompt_number": 13
    },
    {
     "cell_type": "markdown",
     "metadata": {},
     "source": [
      "We can combine these two sets of observations into a single data frame using the generic **row binding function**\n",
      "\n",
      "    rbind(df1, df2)\n",
      "    \n",
      "that will return a data frame with the combined sets of observations:"
     ]
    },
    {
     "cell_type": "code",
     "collapsed": false,
     "input": [
      "%%R\n",
      "\n",
      "df3 = rbind(df1, df2)\n",
      "\n",
      "print(df3)"
     ],
     "language": "python",
     "metadata": {},
     "outputs": [
      {
       "metadata": {},
       "output_type": "display_data",
       "text": [
        "   X  Y Z\n",
        "a  1  3 u\n",
        "b  2  9 v\n",
        "c  3  1 w\n",
        "d 12 33 k\n",
        "e 12 96 l\n",
        "f 63  0 m\n"
       ]
      }
     ],
     "prompt_number": 14
    },
    {
     "cell_type": "heading",
     "level": 4,
     "metadata": {},
     "source": [
      "Adding new variables to an existing data frame"
     ]
    },
    {
     "cell_type": "markdown",
     "metadata": {},
     "source": [
      "Suppose we have two data frames, representing the **same sample** but containing values for **different population variables**. For instance, the data frame <code>df3</code> above and the following new one:"
     ]
    },
    {
     "cell_type": "code",
     "collapsed": false,
     "input": [
      "%%R\n",
      "\n",
      "df4 = data.frame(sex=c(a='M', b='F', c='M', d='F', e='M', f='F'))\n",
      "\n",
      "print(df4)"
     ],
     "language": "python",
     "metadata": {},
     "outputs": [
      {
       "metadata": {},
       "output_type": "display_data",
       "text": [
        "  sex\n",
        "a   M\n",
        "b   F\n",
        "c   M\n",
        "d   F\n",
        "e   M\n",
        "f   F\n"
       ]
      }
     ],
     "prompt_number": 16
    },
    {
     "cell_type": "markdown",
     "metadata": {},
     "source": [
      "We add additional variables to a data frame by using the generic **column bind function**\n",
      "\n",
      "    cbind(df1, df2)\n",
      "that returns a data frame with additional column representing the new variables:"
     ]
    },
    {
     "cell_type": "code",
     "collapsed": false,
     "input": [
      "%%R\n",
      "\n",
      "df5 = cbind(df3, df4)\n",
      "\n",
      "print(df5)"
     ],
     "language": "python",
     "metadata": {},
     "outputs": [
      {
       "metadata": {},
       "output_type": "display_data",
       "text": [
        "   X  Y Z sex\n",
        "a  1  3 u   M\n",
        "b  2  9 v   F\n",
        "c  3  1 w   M\n",
        "d 12 33 k   F\n",
        "e 12 96 l   M\n",
        "f 63  0 m   F\n"
       ]
      }
     ],
     "prompt_number": 17
    },
    {
     "cell_type": "heading",
     "level": 4,
     "metadata": {},
     "source": [
      "Bracket operator to retrieve columns"
     ]
    },
    {
     "cell_type": "markdown",
     "metadata": {},
     "source": [
      "    \n",
      "    \n",
      "One accesses the **columns of a data frame**, the very same way one accesses the **elements of a list**. So you know how to do that from the previous lecture. \n",
      "\n",
      "\n",
      "Since the **data frame columns are vectors**, one can do **vectorized arithmetic** with them. This allows us to produce new variables by adding, multipliying, taking square roots, etc. from data frame columns."
     ]
    },
    {
     "cell_type": "heading",
     "level": 3,
     "metadata": {},
     "source": [
      "Example: a grade data frame (as always)"
     ]
    },
    {
     "cell_type": "heading",
     "level": 4,
     "metadata": {},
     "source": [
      "Formal setting: universe and variables"
     ]
    },
    {
     "cell_type": "markdown",
     "metadata": {},
     "source": [
      "Let's have a look at our favorite grade example. So we have a population (or universe) of three students in a certain class:\n",
      "\n",
      "$$\\Omega = \\Big\\{\\textrm{Bob},\\, \\textrm{Aline},\\, \\textrm{Agnes}\\Big\\}$$\n",
      "\n",
      "**Remark:** The element in the set $\\Omega$ are meant to represent actual students, with all their characteristics/features/variables, and not only the student names.\n",
      "\n",
      "Since the students have taken three exams in this class (the first and second midterm, denoted by $M1$ and $M2$, and the final exam denoted by $F$), we have to three **quantitative variables** associated with these exams: that is, we have three mathematical functions:\n",
      "\n",
      "$$M1,\\, M2,\\, F:\\Omega\\rightarrow [0,100]$$\n",
      "\n",
      "For instance, the grade of student $s\\in \\Omega$ at the final exam is $F(s)$, which is a number between $0$ and $100$."
     ]
    },
    {
     "cell_type": "heading",
     "level": 4,
     "metadata": {},
     "source": [
      "Data frame instanciation from vectors"
     ]
    },
    {
     "cell_type": "markdown",
     "metadata": {},
     "source": [
      "Let's now construct three R vectors representing the values of our variables $M1, M2$, and $F$:"
     ]
    },
    {
     "cell_type": "code",
     "collapsed": false,
     "input": [
      "%%R\n",
      "\n",
      "M1 = c(Bob=67, Aline=88, Agnes=99)\n",
      "M2 = c(Bob=82, Aline=91, Agnes=100)\n",
      "F  = c(Bob=3 , Aline=38, Agnes=97)"
     ],
     "language": "python",
     "metadata": {},
     "outputs": [],
     "prompt_number": 18
    },
    {
     "cell_type": "markdown",
     "metadata": {},
     "source": [
      "and construct an R data frame with them:"
     ]
    },
    {
     "cell_type": "code",
     "collapsed": false,
     "input": [
      "%%R\n",
      "\n",
      "grades = data.frame(M1, M2, F)"
     ],
     "language": "python",
     "metadata": {},
     "outputs": [],
     "prompt_number": 19
    },
    {
     "cell_type": "markdown",
     "metadata": {},
     "source": [
      "R data frames have a method <code>print.data.frame</code> method implemented, so we can invoke the **generic function** <code>print</code> on data frame instances:"
     ]
    },
    {
     "cell_type": "code",
     "collapsed": false,
     "input": [
      "%%R\n",
      "\n",
      "print(grades)"
     ],
     "language": "python",
     "metadata": {},
     "outputs": [
      {
       "metadata": {},
       "output_type": "display_data",
       "text": [
        "      M1  M2  F\n",
        "Bob   67  82  3\n",
        "Aline 88  91 38\n",
        "Agnes 99 100 97\n"
       ]
      }
     ],
     "prompt_number": 20
    },
    {
     "cell_type": "heading",
     "level": 4,
     "metadata": {},
     "source": [
      "Maliciously changing the class string of a data frame..."
     ]
    },
    {
     "cell_type": "markdown",
     "metadata": {},
     "source": [
      "One sees that the <code>print</code> function is not the same as the <code>print</code> function for R lists: it's much better.\n",
      "\n",
      "By curiosity, let's change the class string of our data.frame object <code>grades</code>, and see if it changes the behavior of the generic function <code>print</code>:"
     ]
    },
    {
     "cell_type": "code",
     "collapsed": false,
     "input": [
      "%%R\n",
      "\n",
      "class(grades) = 'list'\n",
      "print(grades)"
     ],
     "language": "python",
     "metadata": {},
     "outputs": [
      {
       "metadata": {},
       "output_type": "display_data",
       "text": [
        "$M1\n",
        "[1] 67 88 99\n",
        "\n",
        "$M2\n",
        "[1]  82  91 100\n",
        "\n",
        "$F\n",
        "[1]  3 38 97\n",
        "\n",
        "attr(,\"row.names\")\n",
        "[1] \"Bob\"   \"Aline\" \"Agnes\"\n"
       ]
      }
     ],
     "prompt_number": 21
    },
    {
     "cell_type": "markdown",
     "metadata": {},
     "source": [
      "We see that the generic function <code>print</code>  now understand that our object is no longer a data frame, but simply a list. As a result, it prints the underlying list the old fashion way.\n",
      "\n",
      "Let's restore the status our fallen data frame <code>grades</code>:"
     ]
    },
    {
     "cell_type": "code",
     "collapsed": false,
     "input": [
      "%%R\n",
      "\n",
      "class(grades) = 'data.frame'\n",
      "print(grades)"
     ],
     "language": "python",
     "metadata": {},
     "outputs": [
      {
       "metadata": {},
       "output_type": "display_data",
       "text": [
        "      M1  M2  F\n",
        "Bob   67  82  3\n",
        "Aline 88  91 38\n",
        "Agnes 99 100 97\n"
       ]
      }
     ],
     "prompt_number": 13
    },
    {
     "cell_type": "heading",
     "level": 4,
     "metadata": {},
     "source": [
      "Accessing and computing with columns"
     ]
    },
    {
     "cell_type": "markdown",
     "metadata": {},
     "source": [
      "Accessing data frame columns amount to accessing the elements of the underlying list, which we know how to do. We have two syntax for that:\n",
      "\n",
      "* the **dollar sign operator** syntax\n",
      "* the **bracket operator** syntax\n",
      "\n",
      "The return value of these operators is the corresponding data frame column: i.e. a R vector. Thus we can perform arithmetical vectorized operation, in the very same way as we did with Pandas Series. For instance, let's compute the total class grade with the following crazy and mean formula:\n",
      "\n",
      "$$TG=\\sqrt{M_1\\cos^2(F) +  M_2\\sin^2(F)}$$"
     ]
    },
    {
     "cell_type": "code",
     "collapsed": false,
     "input": [
      "%%R\n",
      "\n",
      "grades['TG'] = sqrt(cos(grades$F)^2*grades$M1 + sin(grades$F)^2*grades$M2)"
     ],
     "language": "python",
     "metadata": {},
     "outputs": [],
     "prompt_number": 14
    },
    {
     "cell_type": "code",
     "collapsed": false,
     "input": [
      "%%R\n",
      "\n",
      "print(grades)"
     ],
     "language": "python",
     "metadata": {},
     "outputs": [
      {
       "metadata": {},
       "output_type": "display_data",
       "text": [
        "      M1  M2  F       TG\n",
        "Bob   67  82  3 8.203580\n",
        "Aline 88  91 38 9.394866\n",
        "Agnes 99 100 97 9.957113\n"
       ]
      }
     ],
     "prompt_number": 15
    },
    {
     "cell_type": "heading",
     "level": 4,
     "metadata": {},
     "source": [
      "Accessing rows and single variable values"
     ]
    },
    {
     "cell_type": "markdown",
     "metadata": {},
     "source": [
      "R data frames enjoy a similar **double entry bracket syntax** as Numpy arrays. \n",
      "\n",
      "* The **data frame rows** are indexed **from 1** to the **total number of rows** (i.e. the **number of individuals** in our sample**)\n",
      "\n",
      "\n",
      "* The **data frame columns** are indexed **from 1** to the **total number of columns** (i.e. the **number of variables** we are considering).\n",
      "\n",
      "Now, given a data frame <code>data</code> the bracket operator \n",
      "\n",
      "    data[i, j] \n",
      "will return the value of variable $j$ (i.e. in the $j^{th}$ column) for individual $i$ (i.e. in the $i^{th}$ row)."
     ]
    },
    {
     "cell_type": "code",
     "collapsed": false,
     "input": [
      "%%R\n",
      "\n",
      "print(grades[1,2])"
     ],
     "language": "python",
     "metadata": {},
     "outputs": [
      {
       "output_type": "stream",
       "stream": "stdout",
       "text": [
        "Error in grades[1, 2] : incorrect number of dimensions\n"
       ]
      }
     ],
     "prompt_number": 25
    },
    {
     "cell_type": "markdown",
     "metadata": {},
     "source": [
      "The notation\n",
      "\n",
      "    data[,j]\n",
      "    \n",
      "will return the $j^{th}$ column as a **vector**, while\n",
      "\n",
      "    data[i,]\n",
      "will return the $i^{th}$ row as a **one row data frame**."
     ]
    },
    {
     "cell_type": "code",
     "collapsed": false,
     "input": [
      "%%R\n",
      "\n",
      "class(grades) = 'data.frame'\n",
      "\n",
      "a = grades[1, ]\n",
      "\n",
      "print(class(a)); print(a)"
     ],
     "language": "python",
     "metadata": {},
     "outputs": [
      {
       "metadata": {},
       "output_type": "display_data",
       "text": [
        "[1] \"data.frame\"\n",
        "    M1 M2 F\n",
        "Bob 67 82 3\n"
       ]
      }
     ],
     "prompt_number": 35
    },
    {
     "cell_type": "code",
     "collapsed": false,
     "input": [
      "%%R\n",
      "a = grades[, 2]\n",
      "print(class(a)); print(a)"
     ],
     "language": "python",
     "metadata": {},
     "outputs": [
      {
       "metadata": {},
       "output_type": "display_data",
       "text": [
        "[1] \"numeric\"\n",
        "[1]  82  91 100\n"
       ]
      }
     ],
     "prompt_number": 18
    },
    {
     "cell_type": "heading",
     "level": 2,
     "metadata": {},
     "source": [
      "Loading data into a data frame"
     ]
    },
    {
     "cell_type": "markdown",
     "metadata": {},
     "source": [
      "As for Pandas data frames, we have functions that allow us to load data tables located either on the **internet** at a given **<code>url</code>** or on the **local file system** at a given **path**.\n",
      "\n"
     ]
    },
    {
     "cell_type": "markdown",
     "metadata": {},
     "source": [
      "The functions\n",
      "\n",
      "    read.table(address, row.names, col.names, header, sep)\n",
      "\n",
      "    read.csv(address, row.names, col.names, header)\n",
      "    \n",
      "will return a data frame using the **data table** located at the value passed to the argument <code>address</code>.\n",
      "\n",
      "The **column names** will be infered from the first line of the data table if the parameter <code>header</code> is set to <code>TRUE</code> (the default is <code>FALSE</code>). They can also be specified by passing to the argument <code>col.name</code> a character vector.\n",
      "\n",
      "The **row names** can be specified by passing to the argument <code>row.names</code> either\n",
      "\n",
      "* a **character vector**\n",
      "* the **column index** to use for the row names\n",
      "\n",
      "The difference between these two functions is that \n",
      "\n",
      "* <code>read.table</code> expects a **blanck character** (i.e. spaces, tabs, etc.) as separator by default, although the **separator** can be specified by setting the argument <code>sep</code>\n",
      "\n",
      "\n",
      "* <code>read.csv</code> expects a **comma separated value (csv)** data table\n",
      "\n",
      "Have a look [here](http://stat.ethz.ch/R-manual/R-devel/library/utils/html/read.table.html) for a description of all the possible arguments that can be passed to these functions, as well as for their default values."
     ]
    },
    {
     "cell_type": "heading",
     "level": 3,
     "metadata": {},
     "source": [
      "Examples: loading tabular data"
     ]
    },
    {
     "cell_type": "heading",
     "level": 4,
     "metadata": {},
     "source": [
      "Comma separated values"
     ]
    },
    {
     "cell_type": "markdown",
     "metadata": {},
     "source": [
      "Consider the comma separated file located at:"
     ]
    },
    {
     "cell_type": "code",
     "collapsed": false,
     "input": [
      "csv_url = 'http://www.stat.berkeley.edu/classes/s133/data/world.txt'\n",
      "!curl $csv_url 2>/dev/null | head -4"
     ],
     "language": "python",
     "metadata": {},
     "outputs": [
      {
       "output_type": "stream",
       "stream": "stdout",
       "text": [
        "country,gdp,income,literacy,military\r\n",
        "Albania,4500,4937,98.7,56500000\r\n",
        "Algeria,5900,6799,69.8,2.48e+09\r\n",
        "Angola,1900,2457,66.8,183580000\r\n"
       ]
      }
     ],
     "prompt_number": 36
    },
    {
     "cell_type": "markdown",
     "metadata": {},
     "source": [
      "This variable <code>csv_url</code> is defined in a Python cell, and thus not accessible by default to R cells. To have access to it in R cells, one can use the <code>-i</code> (i for \"input\") option of the magic command <code>%%R</code>:"
     ]
    },
    {
     "cell_type": "code",
     "collapsed": false,
     "input": [
      "%%R -i csv_url\n",
      "countries = read.csv(csv_url, header=TRUE, row.names=1)"
     ],
     "language": "python",
     "metadata": {},
     "outputs": [],
     "prompt_number": 37
    },
    {
     "cell_type": "markdown",
     "metadata": {},
     "source": [
      "To display the first or last entries of a data frame, one has the generic functions:\n",
      "\n",
      "    head(x)\n",
      "    tail(x)"
     ]
    },
    {
     "cell_type": "code",
     "collapsed": false,
     "input": [
      "%%R\n",
      "print(head(countries))"
     ],
     "language": "python",
     "metadata": {},
     "outputs": [
      {
       "metadata": {},
       "output_type": "display_data",
       "text": [
        "            gdp income literacy   military\n",
        "Albania    4500   4937     98.7 5.6500e+07\n",
        "Algeria    5900   6799     69.8 2.4800e+09\n",
        "Angola     1900   2457     66.8 1.8358e+08\n",
        "Argentina 11200  12468     97.2 4.3000e+09\n",
        "Armenia    3900   3806     99.4 1.3500e+08\n",
        "Australia 28900  29893     99.9 1.6650e+10\n"
       ]
      }
     ],
     "prompt_number": 38
    },
    {
     "cell_type": "heading",
     "level": 4,
     "metadata": {},
     "source": [
      "Custom separator"
     ]
    },
    {
     "cell_type": "code",
     "collapsed": false,
     "input": [
      "custom_url = 'http://www.stat.berkeley.edu/classes/s133/data/movies.txt'\n",
      "!curl $custom_url 2>/dev/null | head -4"
     ],
     "language": "python",
     "metadata": {},
     "outputs": [
      {
       "output_type": "stream",
       "stream": "stdout",
       "text": [
        "rank|name|box|date\r\n",
        "1|Avatar|$759.563|December 18, 2009\r\n",
        "2|Titanic|$600.788|December 19, 1997\r\n",
        "3|The Dark Knight|$533.184|July 18, 2008\r\n"
       ]
      }
     ],
     "prompt_number": 39
    },
    {
     "cell_type": "code",
     "collapsed": false,
     "input": [
      "%%R -i custom_url\n",
      "\n",
      "movies = read.table(custom_url, header=TRUE, sep='|')"
     ],
     "language": "python",
     "metadata": {},
     "outputs": [],
     "prompt_number": 40
    },
    {
     "cell_type": "code",
     "collapsed": false,
     "input": [
      "%%R\n",
      "\n",
      "print(head(movies))"
     ],
     "language": "python",
     "metadata": {},
     "outputs": [
      {
       "metadata": {},
       "output_type": "display_data",
       "text": [
        "  rank                               name      box              date\n",
        "1    1                             Avatar $759.563 December 18, 2009\n",
        "2    2                            Titanic $600.788 December 19, 1997\n",
        "3    3                    The Dark Knight $533.184     July 18, 2008\n",
        "4    4 Star Wars: Episode IV - A New Hope $460.998      May 25, 1977\n",
        "5    5                            Shrek 2 $437.212      May 19, 2004\n",
        "6    6         E.T. the Extra-Terrestrial $434.975     June 11, 1982\n"
       ]
      }
     ],
     "prompt_number": 41
    },
    {
     "cell_type": "heading",
     "level": 4,
     "metadata": {},
     "source": [
      "Blanck-space separated tables"
     ]
    },
    {
     "cell_type": "code",
     "collapsed": false,
     "input": [
      "table_url = 'http://www.stat.berkeley.edu/classes/s133/data/pop.txt'\n",
      "!curl $table_url 2>/dev/null | head -4"
     ],
     "language": "python",
     "metadata": {},
     "outputs": [
      {
       "output_type": "stream",
       "stream": "stdout",
       "text": [
        "State                   pop2004    pop2003\r\n",
        "Alabama                 4530182    4500752\r\n",
        "Alaska                   655435     648818\r\n",
        "Arizona                 5743834    5580811\r\n"
       ]
      }
     ],
     "prompt_number": 43
    },
    {
     "cell_type": "code",
     "collapsed": false,
     "input": [
      "%%R -i table_url\n",
      "\n",
      "states = read.table(table_url, header=TRUE, , row.names=1)\n",
      "print(head(states))"
     ],
     "language": "python",
     "metadata": {},
     "outputs": [
      {
       "metadata": {},
       "output_type": "display_data",
       "text": [
        "            pop2004  pop2003\n",
        "Alabama     4530182  4500752\n",
        "Alaska       655435   648818\n",
        "Arizona     5743834  5580811\n",
        "Arkansas    2752629  2725714\n",
        "California 35893799 35484453\n",
        "Colorado    4601403  4550688\n"
       ]
      }
     ],
     "prompt_number": 47
    },
    {
     "cell_type": "heading",
     "level": 2,
     "metadata": {},
     "source": [
      "Basic statistical operations"
     ]
    },
    {
     "cell_type": "heading",
     "level": 4,
     "metadata": {},
     "source": [
      "Summary statistics"
     ]
    },
    {
     "cell_type": "markdown",
     "metadata": {},
     "source": [
      "One gets **summary statistics** for the variables stored in a data frame, very much the same way as we did with Pandas. The difference is that we use R data frame methods through the generic function:\n",
      "\n",
      "    summary(data)\n",
      "    \n",
      "The argument <code>data</code> can be\n",
      "\n",
      "* a **whole data frame**, in which case <code>summary</code> will return a table containing the summary statistics for all data frame variables\n",
      "\n",
      "* a **numeric vector**, such as a data frame column\n",
      "\n",
      "Let's print the summary statistics of our data frame containing the population of all states in 2004 (first column) and in 2003 (second column):"
     ]
    },
    {
     "cell_type": "code",
     "collapsed": false,
     "input": [
      "%%R\n",
      "stats_all = summary(states)\n",
      "\n",
      "summary_2004 = summary(states$pop2004)"
     ],
     "language": "python",
     "metadata": {},
     "outputs": [],
     "prompt_number": 48
    },
    {
     "cell_type": "code",
     "collapsed": false,
     "input": [
      "%%R \n",
      "\n",
      "print(stats_all)"
     ],
     "language": "python",
     "metadata": {},
     "outputs": [
      {
       "metadata": {},
       "output_type": "display_data",
       "text": [
        "    pop2004            pop2003        \n",
        " Min.   :  506529   Min.   :  501242  \n",
        " 1st Qu.: 2375472   1st Qu.: 2323889  \n",
        " Median : 4522976   Median : 4498543  \n",
        " Mean   : 6123315   Mean   : 6060413  \n",
        " 3rd Qu.: 6282303   3rd Qu.: 6255088  \n",
        " Max.   :35893799   Max.   :35484453  \n"
       ]
      }
     ],
     "prompt_number": 49
    },
    {
     "cell_type": "code",
     "collapsed": false,
     "input": [
      "%%R\n",
      "\n",
      "print(summary_2004)"
     ],
     "language": "python",
     "metadata": {},
     "outputs": [
      {
       "metadata": {},
       "output_type": "display_data",
       "text": [
        "    Min.  1st Qu.   Median     Mean  3rd Qu.     Max. \n",
        "  506500  2375000  4523000  6123000  6282000 35890000 \n"
       ]
      }
     ],
     "prompt_number": 29
    },
    {
     "cell_type": "heading",
     "level": 4,
     "metadata": {},
     "source": [
      "R basic statistical functions"
     ]
    },
    {
     "cell_type": "markdown",
     "metadata": {},
     "source": [
      "R has a number of useful numerical built-in functions. \n",
      "\n",
      "Since the basic type representing numbers in R is vectorized, all the numeric functions take **numeric vectors as input**. \n",
      "\n",
      "Therefore, all these **built-in functions can take data frame columns** representing **quantitative variables** as their **input**.\n",
      "\n",
      "Explore by yourself the following list of functions:"
     ]
    },
    {
     "cell_type": "markdown",
     "metadata": {},
     "source": [
      "**Statistics:**\n",
      "\n",
      "    mean(x, trim=0,na.rm=FALSE) \t\n",
      "    sd(x) \t\n",
      "    var(x) \n",
      "    mad(x) \n",
      "    median(x) \tm\n",
      "    quantile(x, probs) \t\n",
      "    range(x) \t\n",
      "    sum(x) \t\n",
      "    diff(x, lag=1) \t\n",
      "    min(x) \t\n",
      "    max(x) \t\n",
      "    scale(x, center=TRUE, scale=TRUE) \n"
     ]
    },
    {
     "cell_type": "markdown",
     "metadata": {},
     "source": [
      "**Some other useful math functions:**   \n",
      "    \n",
      "    abs(x) \n",
      "    sqrt(x) \t\n",
      "    ceiling(x) \t\n",
      "    floor(x) \t\n",
      "    trunc(x) \t\n",
      "    round(x, digits=n) \t\n",
      "    signif(x, digits=n) \t\n",
      "    cos(x), sin(x), tan(x)\n",
      "    acos(x), cosh(x), acosh(x), etc.\n",
      "    log(x) \t\n",
      "    log10(x) \t\n",
      "    exp(x) \n"
     ]
    }
   ],
   "metadata": {}
  }
 ]
}