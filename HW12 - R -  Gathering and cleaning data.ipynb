{
 "metadata": {
  "name": ""
 },
 "nbformat": 3,
 "nbformat_minor": 0,
 "worksheets": [
  {
   "cells": [
    {
     "cell_type": "heading",
     "level": 1,
     "metadata": {},
     "source": [
      "Homework 12 - R - Gathering and cleaning data"
     ]
    },
    {
     "cell_type": "code",
     "collapsed": false,
     "input": [
      "%load_ext rmagic\n",
      "%R rm()"
     ],
     "language": "python",
     "metadata": {
      "slideshow": {
       "slide_type": "fragment"
      }
     },
     "outputs": [
      {
       "output_type": "stream",
       "stream": "stdout",
       "text": [
        "The rmagic extension is already loaded. To reload it, use:\n",
        "  %reload_ext rmagic\n"
       ]
      }
     ],
     "prompt_number": 55
    },
    {
     "cell_type": "heading",
     "level": 2,
     "metadata": {},
     "source": [
      "1. Cleaning up values and labels of a messy data frame"
     ]
    },
    {
     "cell_type": "markdown",
     "metadata": {},
     "source": [
      "The following cell will write a csv in your working directory with name <code>messy_data.csv</code> file.\n",
      "\n",
      "In this exercise, you'll have to clean the messy data contained in this file.\n",
      "\n",
      "Now run the next cell to write the data on your computer:"
     ]
    },
    {
     "cell_type": "code",
     "collapsed": false,
     "input": [
      "%%file messy_data.csv\n",
      "id.var1,email.var2,size.var3,sex.var4\n",
      "12 C Bob Roux,<barbu> bar@ratoo.com,1.8 m,Male\n",
      "34 F Trib Marchal,<tribal> kar.boo@birma.org,1.56 m,M\n",
      "54 D Tran Culobouille,tranicule@flight.edu,1.67 m,Female\n",
      "45 E Emilian Vertigo,emilian.truss@myhaoo.com,1.99 (m),f\n",
      "88 E Verges Arnold,verges@lawers.com <frivol>,(m) 1.44,m\n",
      "45 C Rantanplan Figueira,rantanplan@luckyluke.org,(m) 1.99,Male\n",
      "66 W  Bobby Benedict,Beny.BOBBY88@cluso.com,(m) 1.55,female"
     ],
     "language": "python",
     "metadata": {},
     "outputs": [
      {
       "output_type": "stream",
       "stream": "stdout",
       "text": [
        "Overwriting messy_data.csv\n"
       ]
      }
     ],
     "prompt_number": 2
    },
    {
     "cell_type": "markdown",
     "metadata": {},
     "source": [
      "Let us read this data into a data frame and display it:"
     ]
    },
    {
     "cell_type": "code",
     "collapsed": false,
     "input": [
      "%%R\n",
      "df = read.csv('messy_data.csv', header=TRUE, stringsAsFactors = F)\n",
      "print(df)"
     ],
     "language": "python",
     "metadata": {},
     "outputs": [
      {
       "metadata": {},
       "output_type": "display_data",
       "text": [
        "                   id.var1                 email.var2 size.var3 sex.var4\n",
        "1            12 C Bob Roux      <barbu> bar@ratoo.com     1.8 m     Male\n",
        "2        34 F Trib Marchal <tribal> kar.boo@birma.org    1.56 m        M\n",
        "3    54 D Tran Culobouille       tranicule@flight.edu    1.67 m   Female\n",
        "4     45 E Emilian Vertigo   emilian.truss@myhaoo.com  1.99 (m)        f\n",
        "5       88 E Verges Arnold verges@lawers.com <frivol>  (m) 1.44        m\n",
        "6 45 C Rantanplan Figueira   rantanplan@luckyluke.org  (m) 1.99     Male\n",
        "7     66 W  Bobby Benedict     Beny.BOBBY88@cluso.com  (m) 1.55   female\n"
       ]
      }
     ],
     "prompt_number": 3
    },
    {
     "cell_type": "markdown",
     "metadata": {},
     "source": [
      "There is a series of problems with the data contained in this data frame:\n",
      "\n",
      "* The **column labels** have a non-infomative part \".varx\" that we want to remove\n",
      "\n",
      "\n",
      "* The **first column** contains two sort of information: the id and the name. We'd like to split this column into two columns, each containing a part of this information\n",
      "\n",
      "\n",
      "* The **second column** contains emails plus some junk \"<...>\" that we'd like to remove\n",
      "\n",
      "\n",
      "* The **third column** have numbers together with units in various formats. We need to remove the unit information so that R can intepret the column values as numbers\n",
      "\n",
      "\n",
      "* The **last column** as the categorical variable \"sex\" but the two categories are represented with various names (e.g. \"f\", \"Female\", and \"F\" for female). We need to have only one name per category."
     ]
    },
    {
     "cell_type": "markdown",
     "metadata": {},
     "source": [
      "R offers [several function](http://stat.ethz.ch/R-manual/R-devel/library/base/html/grep.html) for **pattern matching and replacement** with **regular expressions**.\n",
      "\n",
      "The one we will use for this exercise is the analog of the <code>sed</code> command we encountered in Unix:\n",
      "\n",
      "The function\n",
      "\n",
      "    sub(pattern_to_match, replacement, x)\n",
      "that\n",
      "\n",
      "* takes **regular expressions** in first two arguments, and a **character vector** in its third argument\n",
      "* return the a **character vectors** made out of <code>x</code> where the <code>patter_to_match</code> has been replaced by <code>replacement</code> for each element in the character vector <code>x</code>\n",
      "\n",
      "**REMARK:** The function to escape a character in the pattern argument of <code>sub</code>, you'll need to use the backslash twice (i.e. <code>\\\\\\\\.</code> instead of <code>\\\\.</code> to have a **literal period** instead of the regular expression pattern meaning \"matching any character\").\n",
      "\n",
      "**ADVICE:** A simple way to use that function is to find the **regular expressions corresponding to junk information** and **replace them by the empty string**. To avoid writing out too complicated regular expression, one can **call several time <code>sub</code> with simpler patters**, each time removing a particular piece of the junk information:\n",
      "\n",
      "    clean.values = sub(junk_pattern_2, '', sub(junk_pattern_1, '', messy.values))"
     ]
    },
    {
     "cell_type": "markdown",
     "metadata": {},
     "source": [
      "**EXERCISE: Retrieve the column labels using the command <code>names(df)</code> and clean them by removing the trailing part \".varx\". Place back the cleaned labels into the data frame, using the command <code> name(df) = clean.labels</code> where the variable <code>clean.labels</code> contains the column names that you stripped out from their junk trailing part.**"
     ]
    },
    {
     "cell_type": "code",
     "collapsed": false,
     "input": [
      "%%R\n",
      "\n",
      "names(df) = sub('\\\\.var[0-9]', '', names(df))\n",
      "\n",
      "print(df)"
     ],
     "language": "python",
     "metadata": {},
     "outputs": [
      {
       "metadata": {},
       "output_type": "display_data",
       "text": [
        "                        id                      email     size    sex\n",
        "1            12 C Bob Roux      <barbu> bar@ratoo.com    1.8 m   Male\n",
        "2        34 F Trib Marchal <tribal> kar.boo@birma.org   1.56 m      M\n",
        "3    54 D Tran Culobouille       tranicule@flight.edu   1.67 m Female\n",
        "4     45 E Emilian Vertigo   emilian.truss@myhaoo.com 1.99 (m)      f\n",
        "5       88 E Verges Arnold verges@lawers.com <frivol> (m) 1.44      m\n",
        "6 45 C Rantanplan Figueira   rantanplan@luckyluke.org (m) 1.99   Male\n",
        "7     66 W  Bobby Benedict     Beny.BOBBY88@cluso.com (m) 1.55 female\n"
       ]
      }
     ],
     "prompt_number": 4
    },
    {
     "cell_type": "markdown",
     "metadata": {},
     "source": [
      "**EXERCISE: Split the first column in the data frame <code>df</code> into a column \"id\" containing the id and a column \"name\" containing the name. For instance, the first entry of \"id\" should be \"12C\" (the space between \"12\" and \"C\" should be removed) and the first entry of \"names\" should be \"Bob Roux\". Reorder the data frame columns, so that we have: id, name, email, size, sex**"
     ]
    },
    {
     "cell_type": "code",
     "collapsed": false,
     "input": [
      "%%R #construct the clean names and clean ids here\n",
      "\n",
      "clean.names = sub('^.... *', '', df$id)\n",
      "clean.id    = sub(' ', '', sub(' *[A-Z][a-z]+ *[A-Z][a-z]+$', '', df$id))"
     ],
     "language": "python",
     "metadata": {},
     "outputs": [],
     "prompt_number": 5
    },
    {
     "cell_type": "code",
     "collapsed": false,
     "input": [
      "%%R #update the data frame here\n",
      "\n",
      "df$name = clean.names\n",
      "df$id   = clean.id\n",
      "df      = data.frame(df[, c('id', 'name', 'email', 'size', 'sex')])\n",
      "\n",
      "print(df)"
     ],
     "language": "python",
     "metadata": {},
     "outputs": [
      {
       "metadata": {},
       "output_type": "display_data",
       "text": [
        "   id                name                      email     size    sex\n",
        "1 12C            Bob Roux      <barbu> bar@ratoo.com    1.8 m   Male\n",
        "2 34F        Trib Marchal <tribal> kar.boo@birma.org   1.56 m      M\n",
        "3 54D    Tran Culobouille       tranicule@flight.edu   1.67 m Female\n",
        "4 45E     Emilian Vertigo   emilian.truss@myhaoo.com 1.99 (m)      f\n",
        "5 88E       Verges Arnold verges@lawers.com <frivol> (m) 1.44      m\n",
        "6 45C Rantanplan Figueira   rantanplan@luckyluke.org (m) 1.99   Male\n",
        "7 66W      Bobby Benedict     Beny.BOBBY88@cluso.com (m) 1.55 female\n"
       ]
      }
     ],
     "prompt_number": 6
    },
    {
     "cell_type": "markdown",
     "metadata": {},
     "source": [
      "**EXERCISE: Remove the \"<...>\" part and the trailing spaces from the \"email\" column.**"
     ]
    },
    {
     "cell_type": "code",
     "collapsed": false,
     "input": [
      "%%R\n",
      "\n",
      "df$email = sub(' *<[^<>]+> *', '', df$email)\n",
      "\n",
      "print(df)"
     ],
     "language": "python",
     "metadata": {},
     "outputs": [
      {
       "metadata": {},
       "output_type": "display_data",
       "text": [
        "   id                name                    email     size    sex\n",
        "1 12C            Bob Roux            bar@ratoo.com    1.8 m   Male\n",
        "2 34F        Trib Marchal        kar.boo@birma.org   1.56 m      M\n",
        "3 54D    Tran Culobouille     tranicule@flight.edu   1.67 m Female\n",
        "4 45E     Emilian Vertigo emilian.truss@myhaoo.com 1.99 (m)      f\n",
        "5 88E       Verges Arnold        verges@lawers.com (m) 1.44      m\n",
        "6 45C Rantanplan Figueira rantanplan@luckyluke.org (m) 1.99   Male\n",
        "7 66W      Bobby Benedict   Beny.BOBBY88@cluso.com (m) 1.55 female\n"
       ]
      }
     ],
     "prompt_number": 7
    },
    {
     "cell_type": "markdown",
     "metadata": {},
     "source": [
      "**EXERCISE: Keep only the numerical information in the \"size\" column and put it back into the data frame a numeric vector using the conversion funciton <code>as.numeric(x)</code>**\n",
      "\n",
      "**Hint:** The following call\n",
      "\n",
      "    sub('(pattern1)|(pattern2)', repl, x)\n",
      "will replace **either** <code>pattern1</code> **or** <code>pattern2</code> by <code>repl</code>. Remember also that  to escape a special character with <code>sub</code> one should use the backslash twice. "
     ]
    },
    {
     "cell_type": "code",
     "collapsed": false,
     "input": [
      "%%R\n",
      "\n",
      "messy.size = df$size\n",
      "\n",
      "clean.size = sub('( *m *)|( *\\\\(m\\\\) *)', '', messy.size)\n",
      "print(clean.size)\n",
      "\n",
      "df$size = as.numeric(clean.size)\n",
      "print(df)"
     ],
     "language": "python",
     "metadata": {},
     "outputs": [
      {
       "metadata": {},
       "output_type": "display_data",
       "text": [
        "[1] \"1.8\"  \"1.56\" \"1.67\" \"1.99\" \"1.44\" \"1.99\" \"1.55\"\n",
        "   id                name                    email size    sex\n",
        "1 12C            Bob Roux            bar@ratoo.com 1.80   Male\n",
        "2 34F        Trib Marchal        kar.boo@birma.org 1.56      M\n",
        "3 54D    Tran Culobouille     tranicule@flight.edu 1.67 Female\n",
        "4 45E     Emilian Vertigo emilian.truss@myhaoo.com 1.99      f\n",
        "5 88E       Verges Arnold        verges@lawers.com 1.44      m\n",
        "6 45C Rantanplan Figueira rantanplan@luckyluke.org 1.99   Male\n",
        "7 66W      Bobby Benedict   Beny.BOBBY88@cluso.com 1.55 female\n"
       ]
      }
     ],
     "prompt_number": 8
    },
    {
     "cell_type": "markdown",
     "metadata": {},
     "source": [
      "**EXERCISE: Keep only one name by category in the column \"sex\", and place this column back into the data frame as a <code>factor</code>.**"
     ]
    },
    {
     "cell_type": "code",
     "collapsed": false,
     "input": [
      "%%R\n",
      "\n",
      "messy.sex = df$sex\n",
      "clean.sex = sub('([fF]emale)|f', 'F', sub('^Male|m$', 'M', messy.sex))\n",
      "\n",
      "df$sex = factor(clean.sex)\n",
      "\n",
      "print(df)"
     ],
     "language": "python",
     "metadata": {},
     "outputs": [
      {
       "metadata": {},
       "output_type": "display_data",
       "text": [
        "   id                name                    email size sex\n",
        "1 12C            Bob Roux            bar@ratoo.com 1.80   M\n",
        "2 34F        Trib Marchal        kar.boo@birma.org 1.56   M\n",
        "3 54D    Tran Culobouille     tranicule@flight.edu 1.67   F\n",
        "4 45E     Emilian Vertigo emilian.truss@myhaoo.com 1.99   F\n",
        "5 88E       Verges Arnold        verges@lawers.com 1.44   M\n",
        "6 45C Rantanplan Figueira rantanplan@luckyluke.org 1.99   M\n",
        "7 66W      Bobby Benedict   Beny.BOBBY88@cluso.com 1.55   F\n"
       ]
      }
     ],
     "prompt_number": 9
    },
    {
     "cell_type": "heading",
     "level": 2,
     "metadata": {},
     "source": [
      "**2. Gathering data from HTML pages (webscrapping)**"
     ]
    },
    {
     "cell_type": "markdown",
     "metadata": {},
     "source": [
      "In this exercise, we will use regular expressions to scrap data out of the webpage located at the following url:\n",
      "\n"
     ]
    },
    {
     "cell_type": "code",
     "collapsed": false,
     "input": [
      "url = 'http://www.calbears.com/SportSelect.dbml?SPSID=749481&SPID=126525&DB_OEM_ID=30100&Q_SEASON=2011'"
     ],
     "language": "python",
     "metadata": {},
     "outputs": [],
     "prompt_number": 26
    },
    {
     "cell_type": "markdown",
     "metadata": {},
     "source": [
      "The next lines of Python code display the webpage in the notebook (don't worry about the syntax):"
     ]
    },
    {
     "cell_type": "code",
     "collapsed": false,
     "input": [
      "from IPython.display import HTML; HTML('<iframe src=' + url + ' width=700 height=350></iframe>')"
     ],
     "language": "python",
     "metadata": {},
     "outputs": [
      {
       "html": [
        "<iframe src=http://www.calbears.com/SportSelect.dbml?SPSID=749481&SPID=126525&DB_OEM_ID=30100&Q_SEASON=2011 width=700 height=350></iframe>"
       ],
       "metadata": {},
       "output_type": "pyout",
       "prompt_number": 18,
       "text": [
        "<IPython.core.display.HTML at 0x107debdd0>"
       ]
      }
     ],
     "prompt_number": 18
    },
    {
     "cell_type": "markdown",
     "metadata": {},
     "source": [
      "The webpage contains a table indicating **match dates**,  **opponent teams**,  **match locations**, and  **match outcomes**. The goal of the exercise will be to extract this data from the raw HTML page and to load this tabular data into a data frame. \n",
      "\n",
      "The HTML format is very close to XML. The main difference is that the tags are not chosen at the convenience of the programmer, but are a fixed convention used to indicate to the browser how to display the information. \n",
      "\n",
      "Similarly to XML documents, HTML documents have a first line indicating that the document is an HTML document, with possibly some information on which HTML dialect is used. (The HTML standard has evolved so there are several versions of it, with slight differences, as between Python 2.7 and Python 3 for example.) Then comes the actual **document node** with an <code>html</code> tag enclosing the whole document. Then comes the **header**, enclosed by the <code>head</code> tag. The header contains **meta-data** about the document, such as the document title, the document author, etc. The header is then followed by the document **body** enclosed by the <code>body</code> tag, which contains the actual document data:\n",
      "\n",
      "    <!doctype html>\n",
      "    <html>\n",
      "       <head>\n",
      "          <title>My first HTML document</title>\n",
      "       </head>\n",
      "       <body>\n",
      "          the document body\n",
      "       </body>  \n",
      "    </html>\n",
      "\n",
      "The browser interprets the tags in the document body and displays the information correspondingly. \n",
      "\n",
      "For instance, a **table** in HTML is created using the tag <code>table</code>. A table has also a **header** part, enclosed within the <code>thead</code> tag and a **body** part, enclosed withing the <code>tbody</code> tag. In the table header, the actual column labels are created using the **table header tag** <code>th</code>. Within the table body, a row is created using the **table row tag** <code>tr</code>. A **table cell** within a table row is created using the **table data tag** <code>td</code>, enclosing the actual data in the table cell. \n",
      "\n",
      "Of course, as in XML, tags can have various attributes allowing for a finer control over the rendering of the table; for now, we can forget about these attributes. \n",
      "\n",
      "You can type HTML code directly in a markdown cell in the iPython notebook. The HTML will be rendered as in a browser. To see the code of the table in the next markdown cell, you can simply double click on it:"
     ]
    },
    {
     "cell_type": "markdown",
     "metadata": {},
     "source": [
      "<table>   \n",
      "    <thead>\n",
      "        <th>Student</th>\n",
      "        <th>Score</th>\n",
      "    </thead>\n",
      "\n",
      "    <tbody>\n",
      "        <tr>\n",
      "            <td>Bob Ducolax</td>\n",
      "            <td>88</td>\n",
      "        </tr>\n",
      "    </tbody>\n",
      "</table>"
     ]
    },
    {
     "cell_type": "markdown",
     "metadata": {},
     "source": [
      "The code for the table above is the following (observe that the additional identation prevents the markdown cell to interprete the HTML code, which is convenient to display HTML source code):\n",
      "\n",
      "    <table>   \n",
      "        <thead>\n",
      "            <th>Student</th>\n",
      "            <th>Score</th>\n",
      "        </thead>\n",
      "\n",
      "        <tbody>\n",
      "            <tr>\n",
      "                <td>Bob Ducolax</td>\n",
      "                <td>88</td>\n",
      "            </tr>\n",
      "        </tbody>\n",
      "    </table>"
     ]
    },
    {
     "cell_type": "markdown",
     "metadata": {},
     "source": [
      "<tbody>\n",
      "    <tr class=\"odd home\">\n",
      "\t\t<td class=\"date\">\n",
      "\t\t\tFri, Feb 17\n",
      "\t\t</td>\n",
      "\n",
      "\t\t<td class=\"opponent\">\n",
      "\t\t\tPacific\n",
      "\t\t</td>\n",
      "\t\t\n",
      "\t\t<td class=\"location hidden-phone\">\n",
      "\t\t\tBerkeley, Calif.\n",
      "\t\t</td>\n",
      "\n",
      "\t\t<td class=\"time-location visible-phone\">\n",
      "\t\t\tBerkeley, Calif.\n",
      "\t\t</td>\n",
      "\t\t\t\t\n",
      "\t\t<td class=\"results\">\n",
      "\t\t\t<a TITLE=\"View Article\" HREF=\"/ViewArticle.dbml?ATCLID=207758697&DB_OEM_ID=30100\">9&nbsp;-&nbsp;1(W) </a> \n",
      "               etc.\n",
      "\t</tr>\n",
      "    \n",
      "    etc.\n",
      "</tbody>"
     ]
    },
    {
     "cell_type": "markdown",
     "metadata": {},
     "source": [
      "Now let us read the HTML file located at the url above into a R list, using the <code>read.lines</code> function as illustrated below:"
     ]
    },
    {
     "cell_type": "code",
     "collapsed": false,
     "input": [
      "%%R -i url\n",
      "\n",
      "htmlPage = readLines(url)"
     ],
     "language": "python",
     "metadata": {},
     "outputs": [],
     "prompt_number": 56
    },
    {
     "cell_type": "markdown",
     "metadata": {},
     "source": [
      "Firefox, as most browsers, allows you to see directly the HTML source code of a given page (select in the Firefox menu bar: Tools $\\rightarrow$ Web Developer $\\rightarrow$ Page Source).\n",
      "\n",
      "A direct inspection of the **HTML source code**  shows that the data we want to extract is always of the same form, enclosed by a **table row tag**. For instance, the first line of the data table diplayed above in the browser is located between line 639 and line 675 of the HTML source. To access this portion of the HTML source code, one needs just to print the corresponding list elements:"
     ]
    },
    {
     "cell_type": "code",
     "collapsed": false,
     "input": [
      "%%R\n",
      "\n",
      "row = htmlPage[639:675]\n",
      "print(row)"
     ],
     "language": "python",
     "metadata": {},
     "outputs": [
      {
       "metadata": {},
       "output_type": "display_data",
       "text": [
        " [1] \"\\t\\t\\t<tr class=\\\"odd home\\\">\"                                                                                                               \n",
        " [2] \"\\t\\t\\t\\t<td class=\\\"date\\\">\"                                                                                                                 \n",
        " [3] \"\\t\\t\\t\\t\\tFri, Feb 17\"                                                                                                                       \n",
        " [4] \"\\t\\t\\t\\t</td>\"                                                                                                                               \n",
        " [5] \"\"                                                                                                                                            \n",
        " [6] \"\\t\\t\\t\\t\"                                                                                                                                    \n",
        " [7] \"\\t\\t\\t\\t\\t<td class=\\\"opponent\\\">\"                                                                                                           \n",
        " [8] \"\\t\\t\\t\\t\\t\\tPacific\"                                                                                                                         \n",
        " [9] \"\\t\\t\\t\\t\\t</td>\"                                                                                                                             \n",
        "[10] \"\\t\\t\\t\\t\"                                                                                                                                    \n",
        "[11] \"\"                                                                                                                                            \n",
        "[12] \"\\t\\t\\t\\t<td class=\\\"location hidden-phone\\\">\"                                                                                                \n",
        "[13] \"\\t\\t\\t\\t\\tBerkeley, Calif.\"                                                                                                                  \n",
        "[14] \"\\t\\t\\t\\t</td>\"                                                                                                                               \n",
        "[15] \"\"                                                                                                                                            \n",
        "[16] \"\\t\\t\\t\\t\"                                                                                                                                    \n",
        "[17] \"\"                                                                                                                                            \n",
        "[18] \"\\t\\t\\t\\t<td class=\\\"time-location visible-phone\\\">\"                                                                                          \n",
        "[19] \"\\t\\t\\t\\t\\tBerkeley, Calif.\"                                                                                                                  \n",
        "[20] \"\\t\\t\\t\\t</td>\"                                                                                                                               \n",
        "[21] \"\"                                                                                                                                            \n",
        "[22] \"\\t\\t\\t\\t\"                                                                                                                                    \n",
        "[23] \"\\t\\t\\t\\t<td class=\\\"results\\\">\"                                                                                                              \n",
        "[24] \"\\t\\t\\t\\t\\t<A TITLE=\\\"View Article\\\" HREF=\\\"/ViewArticle.dbml?ATCLID=207758697&DB_OEM_ID=30100\\\">9&nbsp;-&nbsp;1(W)\"                          \n",
        "[25] \"\\t\\t\\t\\t\\t\\t\\t</a>\"                                                                                                                          \n",
        "[26] \"\\t\\t\\t\\t\\t\\t\"                                                                                                                                \n",
        "[27] \"\\t<!-- START LIVESCORE -->\"                                                                                                                  \n",
        "[28] \"\\t\"                                                                                                                                          \n",
        "[29] \"\\t\\t\\t\\t</td>\"                                                                                                                               \n",
        "[30] \"\\t\\t\\t\\t\"                                                                                                                                    \n",
        "[31] \"\\t\\t\\t\\t<td class=\\\"media hidden-phone visible-phone-landscape\\\">\"                                                                           \n",
        "[32] \"\"                                                                                                                                            \n",
        "[33] \"\\t\\t\\t\\t\\t<A TARGET=\\\"_STATS\\\" TITLE=\\\"Stats\\\" HREF=\\\"http://www.nmnathletics.com/ViewContent.dbml?DB_OEM_ID=30100&CONTENT_ID=719855\\\">Stats\"\n",
        "[34] \"\\t\\t\\t\\t\\t\\t</a>\"                                                                                                                            \n",
        "[35] \"\\t\\t\\t\\t\\t\"                                                                                                                                  \n",
        "[36] \"\\t\\t\\t\\t</td>\"                                                                                                                               \n",
        "[37] \"\\t\\t\\t</tr>\"                                                                                                                                 \n"
       ]
      }
     ],
     "prompt_number": 58
    },
    {
     "cell_type": "markdown",
     "metadata": {},
     "source": [
      "The output is not so pleasant (in part due to the fact that the <code>print</code> command does not interpret the tabs), but we can notice the following patterns:\n",
      "\n",
      "* The **date** is always located **one line** below the tag\n",
      "\n",
      "        <td class=\"date\">\n",
      "         \\t\\t\\t\\t\\tFri, Feb 17\n",
      "         \n",
      "* The **oponent** is always located **one line** below the tag\n",
      "\n",
      "        <td class=\"opponent\">\n",
      "        \\t\\t\\t\\t\\tPacific\n",
      "        \n",
      "* The **location** is always located **one line** below the tag\n",
      "\n",
      "\t\t<td class=\"time-location visible-phone\">\n",
      "\t\t\\t\\t\\t\\t\\tBerkeley, Calif.\n",
      "\n",
      "* The **match outcome** is always located **one line** below the tag\n",
      "\n",
      "\t\t<td class=\"results\">\n",
      "\t\t\\t\\t\\t\\t\\t<A TITLE=\"View Article\" HREF=\"/ViewArticle.dbml?ATCLID=207758697&DB_OEM_ID=30100\">9&nbsp;-&nbsp;1(W)\n",
      "\n",
      "For the match outcome the data is contained in the poorly formated string\n",
      "\n",
      "        9&nbsp;-&nbsp;1(W)\n",
      "which means that Cal won (that's what the \"(W)\" stands for) and that the score was 9-1. \n",
      "\n",
      "We see that some processing will be in order here: removing the two strings \n",
      "\n",
      "    &nbsp;\n",
      "will suffice for our purpose."
     ]
    },
    {
     "cell_type": "markdown",
     "metadata": {},
     "source": [
      "The command \n",
      "\n",
      "    grep(pattern, x)\n",
      "will return a integer vector containing the elements in the character vector <code>x</code> matching the <code>pattern</code>. "
     ]
    },
    {
     "cell_type": "code",
     "collapsed": false,
     "input": [
      "%%R\n",
      "\n",
      "indices = grep('opponent', htmlPage)\n",
      "print(indices)"
     ],
     "language": "python",
     "metadata": {},
     "outputs": [
      {
       "metadata": {},
       "output_type": "display_data",
       "text": [
        " [1]  553  560  613  645  683  721  759  797  835  873  911  949  987 1021 1059\n",
        "[16] 1097 1135 1173 1211 1246 1281 1320 1359 1397 1435 1473 1511 1549 1587 1625\n",
        "[31] 1663 1702 1740 1779 1817 1855 1894 1933 1972 2010 2049 2088 2127 2166 2205\n",
        "[46] 2244 2283 2322 2361 2400 2439 2478 2516 2555 2594 2633 2672 2711\n"
       ]
      }
     ],
     "prompt_number": 67
    },
    {
     "cell_type": "markdown",
     "metadata": {},
     "source": [
      "**EXERCISE: Write a function <code>htmlValues(tag, html, offset)</code> that returns a character vector containing all the lines located at <code>offset</code> (this is an integer) from the lines in the html document (represented as a list of lines passed to the function as the <code>html</code> argument) matching the string passed in the <code>tag</code> argument. For instance, after running the following line of code**\n",
      "\n",
      "    x = htmlValues(tag ='<td class=\"date\">', html=htmlPage, offset=1)\n",
      "    \n",
      "**the variable <code>x</code> should contain all the lines located right after the lines containing the given tag (here: offset=1 means that we collect all the line at distance 1 from the tag lines).**"
     ]
    },
    {
     "cell_type": "code",
     "collapsed": false,
     "input": [
      "%%R\n",
      "htmlValues = function(tag, html, offset){\n",
      "        indices = grep(tag, html)\n",
      "        return(html[indices + offset])\n",
      "    }"
     ],
     "language": "python",
     "metadata": {},
     "outputs": [],
     "prompt_number": 68
    },
    {
     "cell_type": "markdown",
     "metadata": {},
     "source": [
      "**EXERCISE: Using the function <code>htmlValues</code> that you just wrote, store in the variables <code>dates</code>, <code>opponents</code>, <code>locations</code>, and <code>results</code> character vectors containing all the lines from the list <code>htmlPage</code> with, respectively, the information concerning the dates, opponents, locations, and results. Make sure that all the vectors are of the same length.**"
     ]
    },
    {
     "cell_type": "code",
     "collapsed": false,
     "input": [
      "%%R\n",
      "\n",
      "dates     = htmlValues(tag='class=\"date\"', html=htmlPage, offset=1)\n",
      "opponents = htmlValues(tag='class=\"opponent\"', html=htmlPage, offset=1)\n",
      "locations = htmlValues(tag='class=\"time-location visible-phone\"', html=htmlPage, offset=1)\n",
      "results   = htmlValues(tag='class=\"results\"', html=htmlPage, offset=1)\n",
      "\n",
      "print(length(opponents))\n",
      "print(length(locations))\n",
      "print(length(results))\n",
      "print(length(dates))"
     ],
     "language": "python",
     "metadata": {},
     "outputs": [
      {
       "metadata": {},
       "output_type": "display_data",
       "text": [
        "[1] 56\n",
        "[1] 56\n",
        "[1] 56\n",
        "[1] 56\n"
       ]
      }
     ],
     "prompt_number": 69
    },
    {
     "cell_type": "markdown",
     "metadata": {},
     "source": [
      "**EXERCISE: Write a function <code>rm.tabs(x)</code> that returns a character vector obtained from the character vector <code>x</code> by stripping all the tabs in each of its elements.**"
     ]
    },
    {
     "cell_type": "code",
     "collapsed": false,
     "input": [
      "%%R\n",
      "\n",
      "rm.tabs  = function(x) sub('\\\\t*', '', x)"
     ],
     "language": "python",
     "metadata": {},
     "outputs": [],
     "prompt_number": 70
    },
    {
     "cell_type": "markdown",
     "metadata": {},
     "source": [
      "**EXERCISE: Clean the dates values stored in the variable <code>dates</code> using the <code>rm.tabs(x)</code> function you just wrote. Notice that the first element of this vector is not a value but a label. Remove it. Then using the date conversion function <code>as.Date</code> convert the string representing the dates into actual R dates objects. Store the result of this cleaning into the variable <code>dates.clean</code>.**\n",
      "\n",
      "Please first read [this page](http://www.statmethods.net/input/dates.html) on date formatting. Then observe that the year information is missing from the string representing our dates. By the default, <code>as.Date</code> will substitute to this missing information the current year. Since the baseball data are from 2012, you'll first need to add this year information to the character vector before passing it to <code>as.Date</code>. Use the function <code>paste</code> for that. "
     ]
    },
    {
     "cell_type": "code",
     "collapsed": false,
     "input": [
      "%%R\n",
      "\n",
      "dates.temp1  = rm.tabs(dates)[2:length(dates)]\n",
      "dates.temp2  = paste(dates.temp1, '2012')\n",
      "dates.clean = as.Date(dates.temp2, '%a, %b %d %Y')\n",
      "\n",
      "print(dates.clean)"
     ],
     "language": "python",
     "metadata": {},
     "outputs": [
      {
       "metadata": {},
       "output_type": "display_data",
       "text": [
        " [1] \"2012-02-17\" \"2012-02-18\" \"2012-02-19\" \"2012-02-24\" \"2012-02-25\"\n",
        " [6] \"2012-02-26\" \"2012-02-28\" \"2012-03-03\" \"2012-03-04\" \"2012-03-04\"\n",
        "[11] \"2012-03-06\" \"2012-03-09\" \"2012-03-10\" \"2012-03-11\" \"2012-03-12\"\n",
        "[16] \"2012-03-16\" \"2012-03-17\" \"2012-03-17\" \"2012-03-18\" \"2012-03-20\"\n",
        "[21] \"2012-03-23\" \"2012-03-24\" \"2012-03-25\" \"2012-03-27\" \"2012-03-30\"\n",
        "[26] \"2012-03-31\" \"2012-04-01\" \"2012-04-05\" \"2012-04-06\" \"2012-04-07\"\n",
        "[31] \"2012-04-09\" \"2012-04-11\" \"2012-04-13\" \"2012-04-14\" \"2012-04-15\"\n",
        "[36] \"2012-04-17\" \"2012-04-20\" \"2012-04-21\" \"2012-04-22\" \"2012-04-27\"\n",
        "[41] \"2012-04-28\" \"2012-04-29\" \"2012-05-04\" \"2012-05-05\" \"2012-05-06\"\n",
        "[46] \"2012-05-11\" \"2012-05-12\" \"2012-05-13\" \"2012-05-14\" \"2012-05-18\"\n",
        "[51] \"2012-05-19\" \"2012-05-20\" \"2012-05-25\" \"2012-05-26\" \"2012-05-27\"\n"
       ]
      }
     ],
     "prompt_number": 132
    },
    {
     "cell_type": "markdown",
     "metadata": {},
     "source": [
      "In the exercises below, you may want to use the function \n",
      "\n",
      "    sub(pattern, '', x)\n",
      "    \n",
      "to strip out junk parts of a character vector <code>x</code>. \n",
      "\n",
      "<code>pattern</code> should match the junk parts of the strings, that you'll replace with the empty string. \n",
      "\n",
      "You may, at times, want to make repeated calls to <code>sub</code> with different regular expression in order to remove all the junk. "
     ]
    },
    {
     "cell_type": "markdown",
     "metadata": {},
     "source": [
      "**EXERCISE: Print the character vector <code>opponents</code>. Remove the tabs, the trailing spaces and stars, as well as its first element (which you'll verify is a label and not a value) and store the character vector that results into the variable <code>opponents.clean</code>, which you'll print to check that you are left only with clean opponent values.**"
     ]
    },
    {
     "cell_type": "code",
     "collapsed": false,
     "input": [
      "%%R\n",
      "\n",
      "print(opponents)\n",
      "\n",
      "opponents.clean = sub(' *\\\\*', '', rm.tabs(opponents))[2:length(opponents)]\n",
      "\n",
      "print(opponents.clean)"
     ],
     "language": "python",
     "metadata": {},
     "outputs": [
      {
       "metadata": {},
       "output_type": "display_data",
       "text": [
        " [1] \"\\t\\t\\t\\tOpponent\"               \"\\t\\t\\t\\t\\t\\tPacific\"           \n",
        " [3] \"\\t\\t\\t\\t\\t\\tPacific\"            \"\\t\\t\\t\\t\\t\\tPacific\"           \n",
        " [5] \"\\t\\t\\t\\t\\t\\tLong Beach State\"   \"\\t\\t\\t\\t\\t\\tLong Beach State\"  \n",
        " [7] \"\\t\\t\\t\\t\\t\\tLong Beach State\"   \"\\t\\t\\t\\t\\t\\tSan Francisco\"     \n",
        " [9] \"\\t\\t\\t\\t\\t\\tLehigh\"             \"\\t\\t\\t\\t\\t\\tLehigh\"            \n",
        "[11] \"\\t\\t\\t\\t\\t\\tLehigh\"             \"\\t\\t\\t\\t\\t\\tCreighton\"         \n",
        "[13] \"\\t\\t\\t\\t\\t\\tNebraska\"           \"\\t\\t\\t\\t\\t\\tNebraska\"          \n",
        "[15] \"\\t\\t\\t\\t\\t\\tNebraska\"           \"\\t\\t\\t\\t\\t\\tNebraska\"          \n",
        "[17] \"\\t\\t\\t\\t\\t\\tOregon State *\"     \"\\t\\t\\t\\t\\t\\tOregon State *\"    \n",
        "[19] \"\\t\\t\\t\\t\\t\\tOregon State *\"     \"\\t\\t\\t\\t\\t\\tOregon State *\"    \n",
        "[21] \"\\t\\t\\t\\t\\t\\tSan Francisco\"      \"\\t\\t\\t\\t\\t\\tArizona State\"     \n",
        "[23] \"\\t\\t\\t\\t\\t\\tArizona State\"      \"\\t\\t\\t\\t\\t\\tArizona State\"     \n",
        "[25] \"\\t\\t\\t\\t\\t\\tFresno State\"       \"\\t\\t\\t\\t\\t\\tTexas\"             \n",
        "[27] \"\\t\\t\\t\\t\\t\\tTexas\"              \"\\t\\t\\t\\t\\t\\tTexas\"             \n",
        "[29] \"\\t\\t\\t\\t\\t\\tUSC *\"              \"\\t\\t\\t\\t\\t\\tUSC\"               \n",
        "[31] \"\\t\\t\\t\\t\\t\\tUSC *\"              \"\\t\\t\\t\\t\\t\\tStanford\"          \n",
        "[33] \"\\t\\t\\t\\t\\t\\tSanta Clara\"        \"\\t\\t\\t\\t\\t\\tWashington *\"      \n",
        "[35] \"\\t\\t\\t\\t\\t\\tWashington *\"       \"\\t\\t\\t\\t\\t\\tWashington *\"      \n",
        "[37] \"\\t\\t\\t\\t\\t\\tSanta Clara\"        \"\\t\\t\\t\\t\\t\\tUtah *\"            \n",
        "[39] \"\\t\\t\\t\\t\\t\\tUtah *\"             \"\\t\\t\\t\\t\\t\\tUtah *\"            \n",
        "[41] \"\\t\\t\\t\\t\\t\\tOregon *\"           \"\\t\\t\\t\\t\\t\\tOregon *\"          \n",
        "[43] \"\\t\\t\\t\\t\\t\\tOregon *\"           \"\\t\\t\\t\\t\\t\\tWashington State *\"\n",
        "[45] \"\\t\\t\\t\\t\\t\\tWashington State *\" \"\\t\\t\\t\\t\\t\\tWashington State *\"\n",
        "[47] \"\\t\\t\\t\\t\\t\\tArizona *\"          \"\\t\\t\\t\\t\\t\\tArizona *\"         \n",
        "[49] \"\\t\\t\\t\\t\\t\\tArizona *\"          \"\\t\\t\\t\\t\\t\\tWashington State\"  \n",
        "[51] \"\\t\\t\\t\\t\\t\\tUCLA *\"             \"\\t\\t\\t\\t\\t\\tUCLA *\"            \n",
        "[53] \"\\t\\t\\t\\t\\t\\tUCLA *\"             \"\\t\\t\\t\\t\\t\\tStanford *\"        \n",
        "[55] \"\\t\\t\\t\\t\\t\\tStanford *\"         \"\\t\\t\\t\\t\\t\\tStanford *\"        \n",
        " [1] \"Pacific\"          \"Pacific\"          \"Pacific\"          \"Long Beach State\"\n",
        " [5] \"Long Beach State\" \"Long Beach State\" \"San Francisco\"    \"Lehigh\"          \n",
        " [9] \"Lehigh\"           \"Lehigh\"           \"Creighton\"        \"Nebraska\"        \n",
        "[13] \"Nebraska\"         \"Nebraska\"         \"Nebraska\"         \"Oregon State\"    \n",
        "[17] \"Oregon State\"     \"Oregon State\"     \"Oregon State\"     \"San Francisco\"   \n",
        "[21] \"Arizona State\"    \"Arizona State\"    \"Arizona State\"    \"Fresno State\"    \n",
        "[25] \"Texas\"            \"Texas\"            \"Texas\"            \"USC\"             \n",
        "[29] \"USC\"              \"USC\"              \"Stanford\"         \"Santa Clara\"     \n",
        "[33] \"Washington\"       \"Washington\"       \"Washington\"       \"Santa Clara\"     \n",
        "[37] \"Utah\"             \"Utah\"             \"Utah\"             \"Oregon\"          \n",
        "[41] \"Oregon\"           \"Oregon\"           \"Washington State\" \"Washington State\"\n",
        "[45] \"Washington State\" \"Arizona\"          \"Arizona\"          \"Arizona\"         \n",
        "[49] \"Washington State\" \"UCLA\"             \"UCLA\"             \"UCLA\"            \n",
        "[53] \"Stanford\"         \"Stanford\"         \"Stanford\"        \n"
       ]
      }
     ],
     "prompt_number": 78
    },
    {
     "cell_type": "markdown",
     "metadata": {},
     "source": [
      "**EXERCISE: Print the vector <code>locations</code> and do the necessary to obtain a character vector with only clean location values, which you'll store into the variable <code>locations.clean</code>. Then separate the location data into two vectors: one containing the town, which you'll store into the <code>town</code> variable, and another one containing only the states, which you'll store into the variable <code>states</code>. For instance the first entry of <code>locations.clean</code> should be <code>\"Stockton, Calif.\"</code>, the first entry of <code>town</code> should be <code>\"Stockton\"</code>, and the first entry of <code>states</code> should be <code>\"Calif.\"</code>. Print <code>town</code> and <code>states</code> to make sure you are left only with clean town and state values.**"
     ]
    },
    {
     "cell_type": "code",
     "collapsed": false,
     "input": [
      "%%R\n",
      "\n",
      "locations.clean = sub('^at *', '', rm.tabs(locations))[2:length(locations)]\n",
      "towns  = sub(',.*', '', locations.clean)\n",
      "states = sub('^.*,', '', locations.clean)\n",
      "\n",
      "print(towns)\n",
      "print(states)"
     ],
     "language": "python",
     "metadata": {},
     "outputs": [
      {
       "metadata": {},
       "output_type": "display_data",
       "text": [
        " [1] \"Berkeley\"      \"Stockton\"      \"Berkeley\"      \"Long Beach\"   \n",
        " [5] \"Long Beach\"    \"Long Beach\"    \"Berkeley\"      \"Berkeley\"     \n",
        " [9] \"Berkeley\"      \"Berkeley\"      \"Berkeley\"      \"Lincoln\"      \n",
        "[13] \"Lincoln\"       \"Lincoln\"       \"Lincoln\"       \"Berkeley\"     \n",
        "[17] \"Berkeley\"      \"Berkeley\"      \"Berkeley\"      \"San Francisco\"\n",
        "[21] \"Tempe\"         \"Tempe\"         \"Tempe\"         \"Fresno\"       \n",
        "[25] \"Round Rock\"    \"Round Rock\"    \"Round Rock\"    \"Los Angeles\"  \n",
        "[29] \"Los Angeles\"   \"Los Angeles\"   \"Berkeley\"      \"Santa Clara\"  \n",
        "[33] \"Berkeley\"      \"Berkeley\"      \"Berkeley\"      \"Berkeley\"     \n",
        "[37] \"Berkeley\"      \"Berkeley\"      \"Berkeley\"      \"Eugene\"       \n",
        "[41] \"Eugene\"        \"Eugene\"        \"Pullman\"       \"Pullman\"      \n",
        "[45] \"Pullman\"       \"Berkeley\"      \"Berkeley\"      \"Berkeley\"     \n",
        "[49] \"Berkeley\"      \"Berkeley\"      \"Berkeley\"      \"Berkeley\"     \n",
        "[53] \"Stanford\"      \"Stanford\"      \"Stanford\"     \n",
        " [1] \" Calif.\" \" Calif.\" \" Calif.\" \" Calif.\" \" Calif.\" \" Calif.\" \" Calif.\"\n",
        " [8] \" Calif.\" \" Calif.\" \" Calif.\" \" Calif.\" \" Neb.\"   \" Neb.\"   \" Neb.\"  \n",
        "[15] \" Neb.\"   \" Calif.\" \" Calif.\" \" Calif.\" \" Calif.\" \" Calif.\" \" Ariz.\" \n",
        "[22] \" Ariz.\"  \" Ariz.\"  \" Calif.\" \" Texas\"  \" Texas\"  \" Texas\"  \" Calif.\"\n",
        "[29] \" Calif.\" \" Calif.\" \" Calif.\" \" Calif.\" \" Calif.\" \" Calif.\" \" Calif.\"\n",
        "[36] \" Calif.\" \" Calif.\" \" Calif.\" \" Calif.\" \" Ore.\"   \" Ore.\"   \" Ore.\"  \n",
        "[43] \" Wash.\"  \" Wash.\"  \" Wash.\"  \" Calif.\" \" Calif.\" \" Calif.\" \" Calif.\"\n",
        "[50] \" Calif.\" \" Calif.\" \" Calif.\" \" Calif.\" \" Calif.\" \" Calif.\"\n"
       ]
      }
     ],
     "prompt_number": 109
    },
    {
     "cell_type": "markdown",
     "metadata": {},
     "source": [
      "**EXERCISE: Clean the <code>results</code> vector so that you are left only with clean result values of the form <code>9-1 (W)</code>. Postponed matches and missing scores must be replaced by NA. Store the clean result values into the variable <code>results.temp</code>**\n",
      "\n",
      "**IMPORTANT HINT:** Remember that if <code>ind</code> is a integer vector of indices, then <code>x[ind] = NA</code> will set the elements in <code>x</code> corresponding to these indices to <code>NA</code>, while <code>x[-ind] = NA</code> will set the elements **whose indices are not in the integer vector <code>ind</code>** to <code>NA</code>."
     ]
    },
    {
     "cell_type": "code",
     "collapsed": false,
     "input": [
      "%%R\n",
      "\n",
      "temp0 = rm.tabs(results)\n",
      "temp1 = sub('^.*>',   '', temp0)\n",
      "temp2 = sub('&nbsp;', '', temp1)\n",
      "temp3 = sub('&nbsp;', '', temp2)\n",
      "results.temp = temp3[2:length(results)]\n",
      "\n",
      "results.temp[-grep('^[0-9]+-[0-9]+', results.temp)] = NA\n",
      "\n"
     ],
     "language": "python",
     "metadata": {},
     "outputs": [],
     "prompt_number": 153
    },
    {
     "cell_type": "markdown",
     "metadata": {},
     "source": [
      "**EXERCISE: Using <code>results.temp</code> create a factor named <code>outcomes.clean</code> with two categories: 'W' if Cal has won and'L' if Cal has lost. In case of missing values (NA) in <code>result.temp</code>, the corresponding elements in <code>outcomes.clean</code> should also be NA. Print <code>outcome</code> to check that the wins and losses match those in <code>result.temp</code>. **\n",
      "\n",
      "**Hint:** Use <code>rep</code> to create a initial vector containing only 'W' and modify it appropriately using <code>grep</code> and the bracket operator. Then deal with missing values using the function <code>is.na</code> together with the bracket operator and logical indexing. \n",
      "\n",
      "Please first read [this page](http://www.statmethods.net/input/missingdata.html) on missing values."
     ]
    },
    {
     "cell_type": "code",
     "collapsed": false,
     "input": [
      "%%R\n",
      "\n",
      "outcomes = rep('W', length(results.temp))\n",
      "outcomes[grep('L', results.temp)] = 'L'\n",
      "outcomes[is.na(results.temp)] = NA\n",
      "\n",
      "outcomes.clean = factor(outcomes)\n",
      "print(outcomes.clean)"
     ],
     "language": "python",
     "metadata": {},
     "outputs": [
      {
       "metadata": {},
       "output_type": "display_data",
       "text": [
        " [1] W    W    W    L    W    L    W    W    W    <NA> W    W    L    W    L   \n",
        "[16] <NA> L    L    L    W    L    W    L    W    L    W    W    W    L    L   \n",
        "[31] L    L    W    W    L    W    W    W    W    L    L    L    L    W    W   \n",
        "[46] L    L    L    W    L    L    W    W    W    L   \n",
        "Levels: L W\n"
       ]
      }
     ],
     "prompt_number": 154
    },
    {
     "cell_type": "markdown",
     "metadata": {},
     "source": [
      "**EXERCISE: Strip the elements in <code>results.temp</code> from the trailing \"(W)\" and \"(L)\" so that you are left with clean result values of the form \"9-1\" (the string \"Postponed\" can be left alone).**"
     ]
    },
    {
     "cell_type": "code",
     "collapsed": false,
     "input": [
      "%%R\n",
      "\n",
      "results.clean  = sub('\\\\(.*', '', results.temp)\n",
      "\n",
      "print(results.clean)"
     ],
     "language": "python",
     "metadata": {},
     "outputs": [
      {
       "metadata": {},
       "output_type": "display_data",
       "text": [
        " [1] \"9-1\"  \"6-3\"  \"9-3\"  \"4-7\"  \"2-1\"  \"1-2\"  \"5-3\"  \"9-3\"  \"10-0\" NA    \n",
        "[11] \"7-5\"  \"11-8\" \"5-12\" \"4-0\"  \"5-9\"  NA     \"2-9\"  \"1-4\"  \"5-13\" \"4-3\" \n",
        "[21] \"1-5\"  \"3-2\"  \"6-9\"  \"7-6\"  \"3-13\" \"12-2\" \"6-5\"  \"5-4\"  \"1-2\"  \"2-3\" \n",
        "[31] \"6-19\" \"5-8\"  \"7-6\"  \"5-2\"  \"3-5\"  \"4-0\"  \"9-4\"  \"9-0\"  \"5-2\"  \"1-4\" \n",
        "[41] \"2-3\"  \"1-7\"  \"4-10\" \"9-4\"  \"8-0\"  \"1-3\"  \"1-4\"  \"4-7\"  \"13-8\" \"2-7\" \n",
        "[51] \"5-8\"  \"6-5\"  \"5-4\"  \"15-5\" \"3-5\" \n"
       ]
      }
     ],
     "prompt_number": 155
    },
    {
     "cell_type": "markdown",
     "metadata": {},
     "source": [
      "**EXERCISE: Create a data frame <code>baseball</code> containing the columns Opponent, Date, Outcome, Result, Town, State, using the clean values for these variables that you extracted from the raw HTML file. Display the first entries of this data frame. Congratulations!**"
     ]
    },
    {
     "cell_type": "code",
     "collapsed": false,
     "input": [
      "%%R\n",
      "\n",
      "baseball = data.frame(Opponent=opponents.clean, Date=dates.clean, Outcome=outcomes.clean, Result=results.clean, Town=towns, State=states)\n",
      "\n",
      "print(baseball)"
     ],
     "language": "python",
     "metadata": {},
     "outputs": [
      {
       "metadata": {},
       "output_type": "display_data",
       "text": [
        "           Opponent       Date Outcome Result          Town   State\n",
        "1           Pacific 2012-02-17       W    9-1      Berkeley  Calif.\n",
        "2           Pacific 2012-02-18       W    6-3      Stockton  Calif.\n",
        "3           Pacific 2012-02-19       W    9-3      Berkeley  Calif.\n",
        "4  Long Beach State 2012-02-24       L    4-7    Long Beach  Calif.\n",
        "5  Long Beach State 2012-02-25       W    2-1    Long Beach  Calif.\n",
        "6  Long Beach State 2012-02-26       L    1-2    Long Beach  Calif.\n",
        "7     San Francisco 2012-02-28       W    5-3      Berkeley  Calif.\n",
        "8            Lehigh 2012-03-03       W    9-3      Berkeley  Calif.\n",
        "9            Lehigh 2012-03-04       W   10-0      Berkeley  Calif.\n",
        "10           Lehigh 2012-03-04    <NA>   <NA>      Berkeley  Calif.\n",
        "11        Creighton 2012-03-06       W    7-5      Berkeley  Calif.\n",
        "12         Nebraska 2012-03-09       W   11-8       Lincoln    Neb.\n",
        "13         Nebraska 2012-03-10       L   5-12       Lincoln    Neb.\n",
        "14         Nebraska 2012-03-11       W    4-0       Lincoln    Neb.\n",
        "15         Nebraska 2012-03-12       L    5-9       Lincoln    Neb.\n",
        "16     Oregon State 2012-03-16    <NA>   <NA>      Berkeley  Calif.\n",
        "17     Oregon State 2012-03-17       L    2-9      Berkeley  Calif.\n",
        "18     Oregon State 2012-03-17       L    1-4      Berkeley  Calif.\n",
        "19     Oregon State 2012-03-18       L   5-13      Berkeley  Calif.\n",
        "20    San Francisco 2012-03-20       W    4-3 San Francisco  Calif.\n",
        "21    Arizona State 2012-03-23       L    1-5         Tempe   Ariz.\n",
        "22    Arizona State 2012-03-24       W    3-2         Tempe   Ariz.\n",
        "23    Arizona State 2012-03-25       L    6-9         Tempe   Ariz.\n",
        "24     Fresno State 2012-03-27       W    7-6        Fresno  Calif.\n",
        "25            Texas 2012-03-30       L   3-13    Round Rock   Texas\n",
        "26            Texas 2012-03-31       W   12-2    Round Rock   Texas\n",
        "27            Texas 2012-04-01       W    6-5    Round Rock   Texas\n",
        "28              USC 2012-04-05       W    5-4   Los Angeles  Calif.\n",
        "29              USC 2012-04-06       L    1-2   Los Angeles  Calif.\n",
        "30              USC 2012-04-07       L    2-3   Los Angeles  Calif.\n",
        "31         Stanford 2012-04-09       L   6-19      Berkeley  Calif.\n",
        "32      Santa Clara 2012-04-11       L    5-8   Santa Clara  Calif.\n",
        "33       Washington 2012-04-13       W    7-6      Berkeley  Calif.\n",
        "34       Washington 2012-04-14       W    5-2      Berkeley  Calif.\n",
        "35       Washington 2012-04-15       L    3-5      Berkeley  Calif.\n",
        "36      Santa Clara 2012-04-17       W    4-0      Berkeley  Calif.\n",
        "37             Utah 2012-04-20       W    9-4      Berkeley  Calif.\n",
        "38             Utah 2012-04-21       W    9-0      Berkeley  Calif.\n",
        "39             Utah 2012-04-22       W    5-2      Berkeley  Calif.\n",
        "40           Oregon 2012-04-27       L    1-4        Eugene    Ore.\n",
        "41           Oregon 2012-04-28       L    2-3        Eugene    Ore.\n",
        "42           Oregon 2012-04-29       L    1-7        Eugene    Ore.\n",
        "43 Washington State 2012-05-04       L   4-10       Pullman   Wash.\n",
        "44 Washington State 2012-05-05       W    9-4       Pullman   Wash.\n",
        "45 Washington State 2012-05-06       W    8-0       Pullman   Wash.\n",
        "46          Arizona 2012-05-11       L    1-3      Berkeley  Calif.\n",
        "47          Arizona 2012-05-12       L    1-4      Berkeley  Calif.\n",
        "48          Arizona 2012-05-13       L    4-7      Berkeley  Calif.\n",
        "49 Washington State 2012-05-14       W   13-8      Berkeley  Calif.\n",
        "50             UCLA 2012-05-18       L    2-7      Berkeley  Calif.\n",
        "51             UCLA 2012-05-19       L    5-8      Berkeley  Calif.\n",
        "52             UCLA 2012-05-20       W    6-5      Berkeley  Calif.\n",
        "53         Stanford 2012-05-25       W    5-4      Stanford  Calif.\n",
        "54         Stanford 2012-05-26       W   15-5      Stanford  Calif.\n",
        "55         Stanford 2012-05-27       L    3-5      Stanford  Calif.\n"
       ]
      }
     ],
     "prompt_number": 158
    },
    {
     "cell_type": "markdown",
     "metadata": {},
     "source": [
      "**EXERCISE: Replace the column <code>Result</code> in our <code>baseball</code> data frame by two additional columns: the first one, named <code>CScore</code>, will contain the Cal score and the second, named <code>OScore</code> will contain the opponent score. Then do a summary statistics as well as a box plot of this two new variables (you may want to create a new data frame containing these two variables and pass it to <code>summary</code> and <code>boxplot</code>. Then identify the outlier matches for variables.** \n",
      "\n",
      "You may want to read the page on [missing values](http://www.statmethods.net/input/missingdata.html) again to see how to perform computations on numeric vectors with missing values.\n",
      "\n",
      "**IMPORTANT:** To drop a colum, say <code>X</code>, from a data frame <code>df</code>, we can simply set the column variable to <code>NULL</code>:\n",
      "\n",
      "    df$X = NULL"
     ]
    },
    {
     "cell_type": "code",
     "collapsed": false,
     "input": [
      "%%R\n",
      "\n",
      "calScore = as.numeric(sub('-[0-9]+', '', baseball$Result))\n",
      "oppScore = as.numeric(sub('[0-9]+-', '', baseball$Result))\n",
      "\n",
      "baseball$Cscore = calScore\n",
      "baseball$Oscore = oppScore"
     ],
     "language": "python",
     "metadata": {},
     "outputs": [],
     "prompt_number": 159
    },
    {
     "cell_type": "code",
     "collapsed": false,
     "input": [
      "%%R\n",
      "\n",
      "baseball$Result = NULL\n",
      "print(baseball[0:10,])"
     ],
     "language": "python",
     "metadata": {},
     "outputs": [
      {
       "metadata": {},
       "output_type": "display_data",
       "text": [
        "           Opponent       Date Outcome       Town   State Cscore Oscore\n",
        "1           Pacific 2012-02-17       W   Berkeley  Calif.      9      1\n",
        "2           Pacific 2012-02-18       W   Stockton  Calif.      6      3\n",
        "3           Pacific 2012-02-19       W   Berkeley  Calif.      9      3\n",
        "4  Long Beach State 2012-02-24       L Long Beach  Calif.      4      7\n",
        "5  Long Beach State 2012-02-25       W Long Beach  Calif.      2      1\n",
        "6  Long Beach State 2012-02-26       L Long Beach  Calif.      1      2\n",
        "7     San Francisco 2012-02-28       W   Berkeley  Calif.      5      3\n",
        "8            Lehigh 2012-03-03       W   Berkeley  Calif.      9      3\n",
        "9            Lehigh 2012-03-04       W   Berkeley  Calif.     10      0\n",
        "10           Lehigh 2012-03-04    <NA>   Berkeley  Calif.     NA     NA\n"
       ]
      }
     ],
     "prompt_number": 161
    },
    {
     "cell_type": "code",
     "collapsed": false,
     "input": [
      "%%R\n",
      "\n",
      "scores = data.frame(Cal=baseball$Cscore, Opponent=baseball$Oscore)\n",
      "stats = summary(scores)\n",
      "print(stats)\n",
      "\n",
      "boxplot(scores)"
     ],
     "language": "python",
     "metadata": {},
     "outputs": [
      {
       "metadata": {},
       "output_type": "display_data",
       "text": [
        "      Cal            Opponent     \n",
        " Min.   : 1.000   Min.   : 0.000  \n",
        " 1st Qu.: 3.000   1st Qu.: 3.000  \n",
        " Median : 5.000   Median : 4.000  \n",
        " Mean   : 5.245   Mean   : 5.038  \n",
        " 3rd Qu.: 7.000   3rd Qu.: 7.000  \n",
        " Max.   :15.000   Max.   :19.000  \n",
        " NA's   :2        NA's   :2       \n"
       ]
      },
      {
       "metadata": {},
       "output_type": "display_data",
       "png": "[encoded data removed]"
      }
     ],
     "prompt_number": 166
    },
    {
     "cell_type": "code",
     "collapsed": false,
     "input": [
      "%%R\n",
      "cal_outliers = baseball[baseball$Cscore > 13 & !is.na(baseball$Cscore), ]\n",
      "opp_outliers = baseball[baseball$Oscore > 15 & !is.na(baseball$Oscore),]\n",
      "print(cal_outliers)\n",
      "cat(rep('-', 40), '\\n')\n",
      "print(opp_outliers)"
     ],
     "language": "python",
     "metadata": {},
     "outputs": [
      {
       "metadata": {},
       "output_type": "display_data",
       "text": [
        "   Opponent       Date Outcome     Town   State Cscore Oscore\n",
        "54 Stanford 2012-05-26       W Stanford  Calif.     15      5\n",
        "- - - - - - - - - - - - - - - - - - - - - - - - - - - - - - - - - - - - - - - - \n",
        "   Opponent       Date Outcome     Town   State Cscore Oscore\n",
        "31 Stanford 2012-04-09       L Berkeley  Calif.      6     19\n"
       ]
      }
     ],
     "prompt_number": 184
    },
    {
     "cell_type": "code",
     "collapsed": false,
     "input": [],
     "language": "python",
     "metadata": {},
     "outputs": []
    }
   ],
   "metadata": {}
  }
 ]
}