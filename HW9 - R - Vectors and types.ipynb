{
 "metadata": {
  "name": ""
 },
 "nbformat": 3,
 "nbformat_minor": 0,
 "worksheets": [
  {
   "cells": [
    {
     "cell_type": "heading",
     "level": 1,
     "metadata": {},
     "source": [
      "Homework 9 - R - Vectors and types"
     ]
    },
    {
     "cell_type": "code",
     "collapsed": false,
     "input": [
      "%load_ext rmagic"
     ],
     "language": "python",
     "metadata": {
      "slideshow": {
       "slide_type": "fragment"
      }
     },
     "outputs": [],
     "prompt_number": 1
    },
    {
     "cell_type": "markdown",
     "metadata": {},
     "source": [
      "**Exercise 1**\n",
      "\n",
      "Create the vectors, store each of them in a variable of your convenience, and print these variables:\n",
      "\n",
      "* $(1,2,3,\\dots, 19, 20)$"
     ]
    },
    {
     "cell_type": "code",
     "collapsed": false,
     "input": [
      "%%R #example\n",
      "x = 1:20 ; print(x)"
     ],
     "language": "python",
     "metadata": {},
     "outputs": [],
     "prompt_number": 10
    },
    {
     "cell_type": "markdown",
     "metadata": {},
     "source": [
      "* $(20, 10,\\dots, 2, 1)$"
     ]
    },
    {
     "cell_type": "code",
     "collapsed": false,
     "input": [
      "%%R\n",
      "x = 20:1; print(x)\n",
      "\n",
      "#or \n",
      "\n",
      "x = rev(1:20); print(x)"
     ],
     "language": "python",
     "metadata": {},
     "outputs": [
      {
       "metadata": {},
       "output_type": "display_data",
       "text": [
        " [1] 20 19 18 17 16 15 14 13 12 11 10  9  8  7  6  5  4  3  2  1\n",
        " [1] 20 19 18 17 16 15 14 13 12 11 10  9  8  7  6  5  4  3  2  1\n"
       ]
      }
     ],
     "prompt_number": 3
    },
    {
     "cell_type": "markdown",
     "metadata": {},
     "source": [
      "* $(1, 2, 3, \\dots, 19, 20, 19, 18, \\dots, 2, 1)$"
     ]
    },
    {
     "cell_type": "code",
     "collapsed": false,
     "input": [
      "%%R\n",
      "\n",
      "x = c(1:19,20:1); print(x)"
     ],
     "language": "python",
     "metadata": {},
     "outputs": [
      {
       "metadata": {},
       "output_type": "display_data",
       "text": [
        " [1]  1  2  3  4  5  6  7  8  9 10 11 12 13 14 15 16 17 18 19 20 19 18 17 16 15\n",
        "[26] 14 13 12 11 10  9  8  7  6  5  4  3  2  1\n"
       ]
      }
     ],
     "prompt_number": 4
    },
    {
     "cell_type": "markdown",
     "metadata": {},
     "source": [
      "* $(4, 6, 3)$ "
     ]
    },
    {
     "cell_type": "code",
     "collapsed": false,
     "input": [
      "%%R\n",
      "\n",
      "x = c(4,6,3); print(x)"
     ],
     "language": "python",
     "metadata": {},
     "outputs": [
      {
       "metadata": {},
       "output_type": "display_data",
       "text": [
        "[1] 4 6 3\n"
       ]
      }
     ],
     "prompt_number": 5
    },
    {
     "cell_type": "markdown",
     "metadata": {},
     "source": [
      "Look at the online help for the function [rep](http://stat.ethz.ch/R-manual/R-devel/library/base/html/rep.html), and repeat the previous question the following vectors:\n",
      "\n",
      "* $(4, 6, 3, 4, 6, 3,\\dots, 4, 6, 3)$ where 4 appears 10 times"
     ]
    },
    {
     "cell_type": "code",
     "collapsed": false,
     "input": [
      "%%R\n",
      "\n",
      "x = rep(c(4,6,3), 4); print(x)"
     ],
     "language": "python",
     "metadata": {},
     "outputs": [
      {
       "metadata": {},
       "output_type": "display_data",
       "text": [
        " [1] 4 6 3 4 6 3 4 6 3 4 6 3\n"
       ]
      }
     ],
     "prompt_number": 6
    },
    {
     "cell_type": "markdown",
     "metadata": {},
     "source": [
      "* $(4, 6, 3, 4, 6, 3,\\dots, 4, 6, 3, 4)$ where 4 appears 11 times, and 6 appears 10 times, and 3 appears 10 times"
     ]
    },
    {
     "cell_type": "code",
     "collapsed": false,
     "input": [
      "%%R\n",
      "x = rep(c(4,6,3), length.out = 31); print(x)\n",
      "\n",
      "#abbreviating the last parameter also works\n",
      "\n",
      "x  = rep(c(4,6,3), l=31); print(x)\n",
      "\n",
      "#or less efficient, since we create more elements for nothing\n",
      "\n",
      "x = rep(c(4,6,3),11)[1:31] ; print(x)"
     ],
     "language": "python",
     "metadata": {},
     "outputs": [
      {
       "metadata": {},
       "output_type": "display_data",
       "text": [
        " [1] 4 6 3 4 6 3 4 6 3 4 6 3 4 6 3 4 6 3 4 6 3 4 6 3 4 6 3 4 6 3 4\n",
        " [1] 4 6 3 4 6 3 4 6 3 4 6 3 4 6 3 4 6 3 4 6 3 4 6 3 4 6 3 4 6 3 4\n",
        " [1] 4 6 3 4 6 3 4 6 3 4 6 3 4 6 3 4 6 3 4 6 3 4 6 3 4 6 3 4 6 3 4\n"
       ]
      }
     ],
     "prompt_number": 11
    },
    {
     "cell_type": "markdown",
     "metadata": {},
     "source": [
      "* $(4, 4,\\dots, 4, 6, 6, \\dots, 6, 3, 3, \\dots, 3)$  where 4 appears 10 times, 6 appears 20 times, and 3 appears 30 times"
     ]
    },
    {
     "cell_type": "code",
     "collapsed": false,
     "input": [
      "%%R\n",
      "\n",
      "#Using that R is fully vectorized:\n",
      "x = rep(c(4,6,3), c(10, 20, 30)); print(x)"
     ],
     "language": "python",
     "metadata": {},
     "outputs": [
      {
       "metadata": {},
       "output_type": "display_data",
       "text": [
        " [1] 4 4 4 4 4 4 4 4 4 4 6 6 6 6 6 6 6 6 6 6 6 6 6 6 6 6 6 6 6 6 3 3 3 3 3 3 3 3\n",
        "[39] 3 3 3 3 3 3 3 3 3 3 3 3 3 3 3 3 3 3 3 3 3 3\n"
       ]
      }
     ],
     "prompt_number": 13
    },
    {
     "cell_type": "markdown",
     "metadata": {},
     "source": [
      "**Exercise 2**\n",
      "\n",
      "Create a vector of the values $e^x\\cos(x)$ at $x=3, 3.1, 3.2, \\dots, 6$."
     ]
    },
    {
     "cell_type": "code",
     "collapsed": false,
     "input": [
      "%%R\n",
      "\n",
      "x = seq(3, 6, by=0.1)\n",
      "y = exp(x)*cos(x); print(y)"
     ],
     "language": "python",
     "metadata": {},
     "outputs": [
      {
       "metadata": {},
       "output_type": "display_data",
       "text": [
        " [1] -19.884531 -22.178753 -24.490697 -26.773182 -28.969238 -31.011186\n",
        " [7] -32.819775 -34.303360 -35.357194 -35.862834 -35.687732 -34.685042\n",
        "[13] -32.693695 -29.538816 -25.032529 -18.975233 -11.157417  -1.362099\n",
        "[19]  10.632038  25.046705  42.099201  61.996630  84.929067 111.061586\n",
        "[25] 140.525075 173.405776 209.733494 249.468441 292.486707 338.564378\n",
        "[31] 387.360340\n"
       ]
      }
     ],
     "prompt_number": 15
    },
    {
     "cell_type": "markdown",
     "metadata": {},
     "source": [
      "**Exercise 3**\n",
      "\n",
      "Create vectors containing the values:\n",
      "\n",
      "*  $(0.1^30.2^1, 0.1^60.2^4, \\dots, 0.1^{36}0.2^{34})$"
     ]
    },
    {
     "cell_type": "code",
     "collapsed": false,
     "input": [
      "%%R\n",
      "\n",
      "x = 0.1^seq(3, 36, by=3)\n",
      "y = 0.2^seq(1, 34, by=3)\n",
      "\n",
      "z = x * y; print(z)"
     ],
     "language": "python",
     "metadata": {},
     "outputs": [
      {
       "metadata": {},
       "output_type": "display_data",
       "text": [
        " [1] 2.000000e-04 1.600000e-09 1.280000e-14 1.024000e-19 8.192000e-25\n",
        " [6] 6.553600e-30 5.242880e-35 4.194304e-40 3.355443e-45 2.684355e-50\n",
        "[11] 2.147484e-55 1.717987e-60\n"
       ]
      }
     ],
     "prompt_number": 17
    },
    {
     "cell_type": "markdown",
     "metadata": {},
     "source": [
      "*  $(2,  \\frac{2^2}2, \\frac{2^3}3,\\dots, \\frac{2^{25}}{25})$"
     ]
    },
    {
     "cell_type": "code",
     "collapsed": false,
     "input": [
      "%%R\n",
      "a = 1:25\n",
      "x = 2^a/a; print(x)"
     ],
     "language": "python",
     "metadata": {},
     "outputs": [
      {
       "metadata": {},
       "output_type": "display_data",
       "text": [
        " [1] 2.000000e+00 2.000000e+00 2.666667e+00 4.000000e+00 6.400000e+00\n",
        " [6] 1.066667e+01 1.828571e+01 3.200000e+01 5.688889e+01 1.024000e+02\n",
        "[11] 1.861818e+02 3.413333e+02 6.301538e+02 1.170286e+03 2.184533e+03\n",
        "[16] 4.096000e+03 7.710118e+03 1.456356e+04 2.759411e+04 5.242880e+04\n",
        "[21] 9.986438e+04 1.906502e+05 3.647221e+05 6.990507e+05 1.342177e+06\n"
       ]
      }
     ],
     "prompt_number": 19
    },
    {
     "cell_type": "markdown",
     "metadata": {},
     "source": [
      "**Execise 4**\n",
      "\n",
      "Calculate the following sums:\n",
      "\n",
      "* $$\\sum_{i=10}^{100}(i^3 + 4i^2)$$"
     ]
    },
    {
     "cell_type": "code",
     "collapsed": false,
     "input": [
      "%%R\n",
      "\n",
      "i = 10:100\n",
      "result = sum(i^3 + 4*i^2); print(result)"
     ],
     "language": "python",
     "metadata": {},
     "outputs": [
      {
       "metadata": {},
       "output_type": "display_data",
       "text": [
        "[1] 26852735\n"
       ]
      }
     ],
     "prompt_number": 24
    },
    {
     "cell_type": "markdown",
     "metadata": {},
     "source": [
      "* $$\\sum_{i=1}^{25}\\left(\\frac{2^i}i + \\frac{3^i}{i^2}\\right)$$"
     ]
    },
    {
     "cell_type": "code",
     "collapsed": false,
     "input": [
      "%%R\n",
      "\n",
      "i = 1:25\n",
      "result = sum(2^i/i + 3^i/i^2); print(result)"
     ],
     "language": "python",
     "metadata": {},
     "outputs": [
      {
       "metadata": {},
       "output_type": "display_data",
       "text": [
        "[1] 2129170437\n"
       ]
      }
     ],
     "prompt_number": 25
    },
    {
     "cell_type": "markdown",
     "metadata": {},
     "source": [
      "**Exercise 5**\n",
      "\n",
      "Use the function <code>paste</code> to create the following character vectors of length $30$:\n",
      "\n",
      "* ('label 1', 'label 2',..., 'label 30')"
     ]
    },
    {
     "cell_type": "code",
     "collapsed": false,
     "input": [
      "%%R\n",
      "\n",
      "labels = paste('label', 1:30); print(labels)"
     ],
     "language": "python",
     "metadata": {},
     "outputs": [
      {
       "metadata": {},
       "output_type": "display_data",
       "text": [
        " [1] \"label 1\"  \"label 2\"  \"label 3\"  \"label 4\"  \"label 5\"  \"label 6\" \n",
        " [7] \"label 7\"  \"label 8\"  \"label 9\"  \"label 10\" \"label 11\" \"label 12\"\n",
        "[13] \"label 13\" \"label 14\" \"label 15\" \"label 16\" \"label 17\" \"label 18\"\n",
        "[19] \"label 19\" \"label 20\" \"label 21\" \"label 22\" \"label 23\" \"label 24\"\n",
        "[25] \"label 25\" \"label 26\" \"label 27\" \"label 28\" \"label 29\" \"label 30\"\n"
       ]
      }
     ],
     "prompt_number": 26
    },
    {
     "cell_type": "markdown",
     "metadata": {},
     "source": [
      "* ('fn1', 'fn2', ..., 'fn30')"
     ]
    },
    {
     "cell_type": "code",
     "collapsed": false,
     "input": [
      "%%R\n",
      "\n",
      "functs = paste('fn', 1:30, sep=''); print(functs)"
     ],
     "language": "python",
     "metadata": {},
     "outputs": [
      {
       "metadata": {},
       "output_type": "display_data",
       "text": [
        " [1] \"fn1\"  \"fn2\"  \"fn3\"  \"fn4\"  \"fn5\"  \"fn6\"  \"fn7\"  \"fn8\"  \"fn9\"  \"fn10\"\n",
        "[11] \"fn11\" \"fn12\" \"fn13\" \"fn14\" \"fn15\" \"fn16\" \"fn17\" \"fn18\" \"fn19\" \"fn20\"\n",
        "[21] \"fn21\" \"fn22\" \"fn23\" \"fn24\" \"fn25\" \"fn26\" \"fn27\" \"fn28\" \"fn29\" \"fn30\"\n"
       ]
      }
     ],
     "prompt_number": 27
    },
    {
     "cell_type": "markdown",
     "metadata": {},
     "source": [
      "**Exercise 6**\n",
      "\n",
      "Let's construct the following vectors \n",
      "\n",
      "$$x=(x_1,\\dots,x_{250})\\qquad\\textrm{and}\\qquad y=(y_1,\\dots,y_{250})$$\n",
      "\n",
      "\n",
      "of random integers in the range $0, 1, \\dots, 999$, using the random number generator function <code>sample</code>:"
     ]
    },
    {
     "cell_type": "code",
     "collapsed": false,
     "input": [
      "%%R\n",
      "\n",
      "set.seed(50)\n",
      "n = 250\n",
      "x = sample(0:999, n, replace=TRUE)\n",
      "y = sample(0:999, n, replace=TRUE)"
     ],
     "language": "python",
     "metadata": {},
     "outputs": [],
     "prompt_number": 29
    },
    {
     "cell_type": "markdown",
     "metadata": {},
     "source": [
      "You can find [here](http://stat.ethz.ch/R-manual/R-devel/library/base/html/sample.html) a description of the function <code>sample</code>."
     ]
    },
    {
     "cell_type": "markdown",
     "metadata": {},
     "source": [
      "Let $n$ be the length of the vectors $x$ and $y$ (i.e. $n=250$). From $x$ and $y$, create now the vectors:\n",
      "\n",
      "* $(y_2 - x_1, \\dots, y_n - x_{n-1})$"
     ]
    },
    {
     "cell_type": "code",
     "collapsed": false,
     "input": [
      "%%R\n",
      "n = 250\n",
      "diff = y[2:n] - x[1:(n-1)]; print(diff)"
     ],
     "language": "python",
     "metadata": {},
     "outputs": [
      {
       "metadata": {},
       "output_type": "display_data",
       "text": [
        "  [1]  163 -122  317 -146  417  393  249 -489  741  771   81  402 -549  338  583\n",
        " [16] -403  -67  217  307 -121 -269   36 -706 -563  102   48  397  297  -45 -152\n",
        " [31]  497  405  339 -400  499  -89  211 -670   87   74  554  149 -183  612  193\n",
        " [46] -453  -70 -141  127 -709 -708 -722  -64  388 -184 -212  242  430  275  672\n",
        " [61] -150  275  -96 -255  512  577  264  439  149 -916  374 -889 -332  324 -553\n",
        " [76]  394  -87  -75  345 -735  -55  100  -40   15  279  409  790 -547 -487 -399\n",
        " [91] -619 -168 -185   19  645  551  227 -366  242  147  247 -499 -614  758   63\n",
        "[106] -227  247  379 -472  566 -762  152  493  360   69  190  544 -176  216 -676\n",
        "[121] -205  782 -109  189 -233  505 -219  288  -57  487  256  300 -192 -263  704\n",
        "[136]  674  217  280   17  -68  259  612 -127    1  545 -231 -191 -338  333  495\n",
        "[151]  -21   -4  294 -668 -814  420  793  631  -67  655  143  611 -220 -518 -285\n",
        "[166]  327  523  -13 -679 -241   39  193  342  588  469   68  895 -658  232 -331\n",
        "[181]   27  441 -733 -182 -399   79 -469  371  475  265 -407  211   59 -974  -90\n",
        "[196]  218  396 -486 -963 -327  425  220  128  235  294 -107 -365  146 -588  449\n",
        "[211] -434  221  846  386 -910  161  206  109  712 -334 -434    7  640 -350  923\n",
        "[226]  353 -579  225  327  410  568 -195  -83  154 -486 -195  667 -144  272  410\n",
        "[241]  546  380 -559  414  674  193  222  -92  553\n"
       ]
      }
     ],
     "prompt_number": 30
    },
    {
     "cell_type": "markdown",
     "metadata": {},
     "source": [
      "* $\\left(\\frac{\\sin(y_1)}{\\cos(x_2)},\\dots, \\frac{\\sin(y_{n-1})}{\\cos(x_n)}\\right)$"
     ]
    },
    {
     "cell_type": "code",
     "collapsed": false,
     "input": [
      "%%R\n",
      "\n",
      "z = sin(y[1:(n-1)])/cos(x[2:n]); print(z)"
     ],
     "language": "python",
     "metadata": {},
     "outputs": [
      {
       "metadata": {},
       "output_type": "display_data",
       "text": [
        "  [1]   0.88603405  -1.44184825   0.82807258  -1.61591717  -0.86017343\n",
        "  [6]  20.26356465  -0.79930406   1.72414444  -0.08094240  -0.74895634\n",
        " [11]  -2.59866958  -0.37361045  31.11471579   0.12355916  -0.35925226\n",
        " [16]  -0.90743608   0.34374436   5.78205917  -2.57418558  -0.78661325\n",
        " [21]  -0.59855406   0.98936263   0.33042931  -1.75124647  -0.59435547\n",
        " [26]   1.05374692   0.65497397  -0.11596582  -0.97176537   0.57180267\n",
        " [31]   0.75799030  -0.49259143  -0.99433357   0.05377148  -3.77616264\n",
        " [36]  20.54902944   0.77784817   1.28146891  -0.51650728   6.66902699\n",
        " [41]  -0.92970072 -10.93066299  -3.13102962  30.87943423  -1.14281543\n",
        " [46]   0.36757630   1.18479716   0.94594159   0.93339520   0.93632658\n",
        " [51] -11.05384468   2.76893270   0.97488334  -0.08932225  -1.33616578\n",
        " [56]  -3.30065552   0.62663162  -1.96486337   0.08653876   0.56695489\n",
        " [61]  44.07630714  -1.11764853   0.11230330  -0.46073106  -0.13860882\n",
        " [66]   0.84026052   2.64708780  -1.63174570  -9.63022830  -2.15553419\n",
        " [71]  -0.42770826   3.24955062  -4.23453154   0.93067452  -0.88388390\n",
        " [76]   0.69339350   1.72841015  -8.22082884   1.69276461   1.02074555\n",
        " [81]  -3.21968328  -0.90739226   1.11331935   0.59579467   0.19571363\n",
        " [86]  -0.17975474   4.38929818   0.64431266  -1.54509170  -0.26536991\n",
        " [91]  -0.81679156   1.34164181  -1.03400420  -1.33639979  -0.44444499\n",
        " [96]   0.96777754  -0.09545121  -0.63686070  -2.30844090  -0.11384497\n",
        "[101]   1.08800453   1.06851885  -0.30428029  -1.77044888  -1.45269351\n",
        "[106]   0.97943716  -2.15021752   1.56128032   0.61018741   5.59692239\n",
        "[111]  -1.03020002  -1.14632240  -0.81548097   0.95359082  74.12815803\n",
        "[116]  -0.20329495  -0.08875385  -0.76023984  -0.42372635  -0.68385723\n",
        "[121]   1.28860542   0.94117702   1.89561343   0.69369539   4.15021756\n",
        "[126]  -1.08026240   1.26615554   0.02147428   3.32694398   0.22930300\n",
        "[131]   1.14217476   0.73847767   8.72339712 -17.15727240   0.90435970\n",
        "[136]   1.07791792   0.75391899  -0.26297571   0.83894657  -1.22542984\n",
        "[141]  -0.57277292  -1.22429033   2.10719833  -1.35745285  -0.84117115\n",
        "[146]  -0.69663176  -0.99207337  -1.17363312  -5.50814669  -1.12309426\n",
        "[151]   0.60767585   0.32903697  -0.08845387  -4.42251048  -1.31360561\n",
        "[156]  -1.05268827  -1.45007537  -1.03184453   0.38034305   2.06381128\n",
        "[161]  -1.64568068   0.47938401  46.18666528   1.75988821  14.03349520\n",
        "[166]   1.99884446  -1.02170635   1.02445028  -0.15250370  -1.11793279\n",
        "[171]  -4.12228606   1.02355677   0.89546497   0.74732250  -2.09533197\n",
        "[176]  -2.40630344  -0.73530615   0.90759126  -0.87474163  -4.22536917\n",
        "[181]  -2.04450866  -7.41320483   0.03607946  -0.85674969  -0.85648584\n",
        "[186]   2.58973778   8.68248704  -0.74202802   1.07347586   1.37638585\n",
        "[191]   1.73104746  -0.57596355  -0.49915725   0.11786229  -0.45584137\n",
        "[196]  -0.97726281  -6.86428063  -0.60929448  -0.72132361   0.00000000\n",
        "[201]   1.00734878   4.20789995  -0.81616263  -1.72455176  10.00784534\n",
        "[206]   0.71310632   8.77005056  -0.64297796   0.24086573  -6.12424634\n",
        "[211]   0.94848253   9.22132979  -5.85933168  -0.77292827  -0.85749485\n",
        "[216]   0.80000340 -10.45187777   2.91489552   0.86914823   0.93956496\n",
        "[221]   1.15020196  -4.25009579  -0.97278301   1.05669698  23.96919924\n",
        "[226]  -0.11659711   0.58615433  -1.23512544   1.08111948   3.37846777\n",
        "[231]   0.96204558  -1.18727215   0.77801767   2.39161655   1.01270315\n",
        "[236]   0.30508064  -1.13987140   1.35085069   2.13213714   0.95034702\n",
        "[241]   0.48941676  -1.03804260   1.11768517  -0.25446052 -15.07630921\n",
        "[246]   1.12429826   0.28067653  -0.75125301  -1.91160477\n"
       ]
      }
     ],
     "prompt_number": 31
    },
    {
     "cell_type": "markdown",
     "metadata": {},
     "source": [
      "* $(x_1 + 2x_2 - x_3,\\dots, x_2 + 2x_3 -x_4, \\dots, x_{n-2} + 2x_{n-1}- x_n)$"
     ]
    },
    {
     "cell_type": "code",
     "collapsed": false,
     "input": [
      "%%R\n",
      "\n",
      "z = x[1:(n-2)] + 2*x[2:(n-1)] - x[3:n]; print(z)"
     ],
     "language": "python",
     "metadata": {},
     "outputs": [
      {
       "metadata": {},
       "output_type": "display_data",
       "text": [
        "  [1] 1382   70 1221 1749  -98  796 1949  623 -134  618  288 1472  517  -45  794\n",
        " [16] 1982 1489  344 -206 1207  292  771 2085  810 1032 1547  767  537  702  676\n",
        " [31]  737  664 1451  435 1355  168 1150  989  926  348 1757 1299  409 -497  501\n",
        " [46] 2150 1157 1081 1323 2030 1887 1744  879  590  493 1330 1254 1281  465  767\n",
        " [61] 1691  464 1238  805 -519 1425  710 -611 1517  963 1836 2243 -158 1860  606\n",
        " [76]  506 1917 1304 2021 2025  238  226  733 1538  581 -659  824 1109 1136 1339\n",
        " [91] 1239 1584 2300  562  567 -375 1372  761 1142  714 1801 2220  624 -806 1738\n",
        "[106]  268  398 1941  668 2037  829  345  337  -45  635 -285 1225  691 1792 2216\n",
        "[121]  123  538 1130 1124 1172  944  271  -62  229  785  -70 1346 1622  381  104\n",
        "[136] 1036 1015  199  589 1399  601  506  560 -145  171 1204 1427 1278 1128  615\n",
        "[151]  269   37 1521 2172 1602  464   74 1575  599   88 -267 1185 1655 1564 1420\n",
        "[166]  880  229 1651  959 1306 2008 1243  267 1110  556 -791 1300  844 1578 2427\n",
        "[181]  708 1554 1439 1150 1269 2274 1419 1067  187 2071  781 -148 1767 1851 1019\n",
        "[196] -196  554 2223 1710  -90  788 1209  876 1322  275 1191  323 1570 1234  768\n",
        "[211] 1715  903 -768 1546 1452  -47 1125 -330  871 2463  894  133  975  201 -137\n",
        "[226] 1553  299  865  746  184  267  839  -63  863 2411  133 1739 1145 1015   47\n",
        "[241]  209 1468  846   10 1146   31 1405 1058\n"
       ]
      }
     ],
     "prompt_number": 32
    },
    {
     "cell_type": "markdown",
     "metadata": {},
     "source": [
      "Then calculate\n",
      "\n",
      "$$\\sum_{i=1}^{n-1}\\frac{e^{-x_{i+1}}}{x_i+10}$$"
     ]
    },
    {
     "cell_type": "code",
     "collapsed": false,
     "input": [
      "%%R\n",
      "\n",
      "i = 1:(n-1)\n",
      "result = sum(exp(-x[i+1])/(x[i] + 10)); print(result)"
     ],
     "language": "python",
     "metadata": {},
     "outputs": [
      {
       "metadata": {},
       "output_type": "display_data",
       "text": [
        "[1] 0.01269872\n"
       ]
      }
     ],
     "prompt_number": 33
    },
    {
     "cell_type": "markdown",
     "metadata": {},
     "source": [
      "**Exercise 7**\n",
      "\n",
      "This question uses the vectors $x$ and $y$ created in the previous question and the functions \n",
      "[sort](http://stat.ethz.ch/R-manual/R-devel/library/base/html/sort.html),\n",
      "[order](http://stat.ethz.ch/R-manual/R-devel/library/base/html/order.html),\n",
      "[mean](http://stat.ethz.ch/R-manual/R-devel/library/base/html/mean.html),\n",
      "[sqrt](http://stat.ethz.ch/R-manual/R-devel/library/base/html/MathFun.html),\n",
      "[sum](http://stat.ethz.ch/R-manual/R-devel/library/base/html/sum.html),\n",
      "[abs](http://stat.ethz.ch/R-manual/R-devel/library/base/html/MathFun.html).\n",
      "\n",
      "\n",
      "* Pick out the values in $x$ which are > 600"
     ]
    },
    {
     "cell_type": "code",
     "collapsed": false,
     "input": [
      "%%R\n",
      "\n",
      "z = x[x > 600]; print(z)"
     ],
     "language": "python",
     "metadata": {},
     "outputs": [
      {
       "metadata": {},
       "output_type": "display_data",
       "text": [
        " [1] 708 767 699 646 640 676 835 616 710 842 650 618 627 701 836 700 954 713 803\n",
        "[20] 996 765 639 715 655 724 944 995 661 967 657 956 652 956 680 645 691 688 828\n",
        "[39] 760 807 668 964 632 862 614 840 878 789 986 624 807 707 625 977 828 660 852\n",
        "[58] 743 683 866 811 768 880 996 894 900 603 667 787 972 928 987 702 963 621 638\n",
        "[77] 865 669 920 863 860 678 781 870 957 631 760\n"
       ]
      }
     ],
     "prompt_number": 34
    },
    {
     "cell_type": "markdown",
     "metadata": {},
     "source": [
      "* What are the index positions in $y$ of the values which are > 600?"
     ]
    },
    {
     "cell_type": "code",
     "collapsed": false,
     "input": [
      "%%R\n",
      "\n",
      "#Pedestrian solution:\n",
      "\n",
      "indices = 1:length(y)\n",
      "z = indices[x > 600]; print(z)\n",
      "\n",
      "#Using the function which\n",
      "\n",
      "z = which(x > 600); print(z)"
     ],
     "language": "python",
     "metadata": {},
     "outputs": [
      {
       "metadata": {},
       "output_type": "display_data",
       "text": [
        " [1]   1   4   7   8  13  16  17  21  23  24  26  34  36  38  42  46  47  49  50\n",
        "[20]  51  52  53  57  62  67  70  72  73  75  77  78  79  80  88  90  91  92  93\n",
        "[39]  94  98 100 102 103 106 108 109 111 118 120 121 133 147 148 154 155 159 163\n",
        "[58] 164 165 169 171 172 178 180 181 183 184 185 186 187 191 194 198 199 202 207\n",
        "[77] 209 212 215 220 221 227 235 236 238 243 248\n",
        " [1]   1   4   7   8  13  16  17  21  23  24  26  34  36  38  42  46  47  49  50\n",
        "[20]  51  52  53  57  62  67  70  72  73  75  77  78  79  80  88  90  91  92  93\n",
        "[39]  94  98 100 102 103 106 108 109 111 118 120 121 133 147 148 154 155 159 163\n",
        "[58] 164 165 169 171 172 178 180 181 183 184 185 186 187 191 194 198 199 202 207\n",
        "[77] 209 212 215 220 221 227 235 236 238 243 248\n"
       ]
      }
     ],
     "prompt_number": 37
    },
    {
     "cell_type": "markdown",
     "metadata": {},
     "source": [
      "* What are the values in $x$ which correspond to the values in $y$ which are > 600? (By correspond, we mean at the same index positions.)"
     ]
    },
    {
     "cell_type": "code",
     "collapsed": false,
     "input": [
      "%%R\n",
      "\n",
      "z = y[x = y & y > 600]; print(z)"
     ],
     "language": "python",
     "metadata": {},
     "outputs": [
      {
       "metadata": {},
       "output_type": "display_data",
       "text": [
        "  [1] 709 871 621 930 948 783 878 671 860 768 698 974 855 813 776 721 917 985\n",
        " [19] 705 884 840 687 957 955 786 938 930 641 615 988 881 881 997 823 791 643\n",
        " [37] 779 693 845 815 752 766 635 993 919 686 635 613 660 800 743 965 743 615\n",
        " [55] 615 803 948 760 604 800 772 863 902 689 881 941 924 693 835 632 872 876\n",
        " [73] 850 961 681 791 947 915 712 665 921 798 866 828 942 841 645 681 827 884\n",
        " [91] 890 970 632 717 846 952 609 824 695 675 777 813 792 783 611 853 738 668\n",
        "[109] 791\n"
       ]
      }
     ],
     "prompt_number": 38
    },
    {
     "cell_type": "markdown",
     "metadata": {},
     "source": [
      "* Create the vector $\\left(|x_1 - \\bar{x}|^{\\frac12}, |x_2 - \\bar{x}|^{\\frac12}, \\dots, |x_3 - \\bar{x}|^{\\frac12}\\right)$, where $\\bar{x}$ denotes the mean of the vector $x=(x_1,\\dots, x_n)$."
     ]
    },
    {
     "cell_type": "code",
     "collapsed": false,
     "input": [
      "%%R\n",
      "\n",
      "z = abs(x - mean(x))^(1/2); print(z)"
     ],
     "language": "python",
     "metadata": {},
     "outputs": [
      {
       "metadata": {},
       "output_type": "display_data",
       "text": [
        "  [1] 16.0044994  3.8543482 15.8699716 17.7522956  7.8194629 20.1954450\n",
        "  [7] 15.7208142 13.9335566 20.2449006 18.5702989  7.8648585 13.5224258\n",
        " [13] 13.7165593 19.3611983 13.2233127 14.9714395 19.5740645  9.3731532\n",
        " [19] 19.4385185 16.8480266 12.8118695 16.0890025 16.0668603 19.7520632\n",
        " [25] 11.9522383 14.0763632 11.1867779 13.9590831 11.3073427  9.1572922\n",
        " [31]  9.6879306  6.6223863  3.8543482 12.8896858 15.1610026 13.2341981\n",
        " [37] 18.1894475 15.7842960  8.8800901  2.4787093  9.4263461 19.5995918\n",
        " [43] 13.1854465 18.9434949 19.9212449 15.7525871 22.4085698  2.4787093\n",
        " [49] 16.1599505 18.7388367 23.3268943 17.6958752 13.6800585 12.3634947\n",
        " [55]  9.6879306  5.1822775 16.2217138  8.5524266  7.6905136 13.6329014\n",
        " [61] 11.2313846 14.2528594 15.9642100 11.5388041 17.9681941 20.3434510\n",
        " [67] 16.4967876 19.7700784 17.7723381 22.1843188  7.4259006 23.3054500\n",
        " [73] 14.4618118 19.4385185 22.6967839 17.4314658 14.3228489 22.4531512\n",
        " [79] 14.1472259 22.4531512  9.5469367 20.8532012 10.6233705  4.1405314\n",
        " [85]  9.5991666 20.8051917 21.2333700 15.1044364  9.2273506 13.8976257\n",
        " [91] 15.4642814 15.3669776 19.3944322 17.5540309 20.0961688 12.5640758\n",
        " [97] 19.5667064 18.8452647 11.8682770 14.7018366  7.2899931 22.6305988\n",
        "[103] 13.4217734 21.0678903 20.6846803 20.2520122 21.0203711 12.7335777\n",
        "[109] 19.7013705  9.9426355 20.6432556 19.4898948 16.0890025 18.4080417\n",
        "[115] 19.2316406 11.3954377 18.9962101 18.3614814  2.8028557 23.1115556\n",
        "[121] 13.1203658 20.8292103  9.2273506 10.1066315  7.9463199  2.8537694\n",
        "[127] 13.7424889 20.2449006 19.3870060 13.9948562  9.6361818 16.2128344\n",
        "[133] 18.8452647  2.2680388 18.7844617 13.3362663  9.5469367 11.3073427\n",
        "[139] 16.6089133  5.0143793  9.4416100 17.0837935 13.8512093 16.6690132\n",
        "[145] 20.0961688  6.0709143 15.9732276 13.1584194  8.8399095  6.6974622\n",
        "[151] 15.3576040 15.0948998  7.5402918 22.9160206 19.3944322  3.0239048\n",
        "[157] 17.4314658 12.6038089 14.4271965 20.3434510 17.7441821 15.0948998\n",
        "[163] 20.0035997 17.0629423 15.2034207  9.6511139  9.9426355  8.9919964\n",
        "[169] 20.3505282  0.3794733 18.9510950 17.7804387 10.6233705 15.7751704\n",
        "[175]  5.1131204 20.0712730 20.7811453 20.6916408  5.3050919 23.3268943\n",
        "[181] 21.0272205  9.7394045 21.1694119 12.2940636 14.6677878 18.3069386\n",
        "[187] 22.8066657  2.2680388  3.8915293 11.3073427 21.8207241 18.5163711\n",
        "[193]  9.3196566 23.1331796 10.9610219 13.1093860 18.4080417 15.8159413\n",
        "[199] 22.6084940  6.8451443 19.7194320 13.0055373  8.0711833  2.4199174\n",
        "[205]  9.0079964 16.1819653 13.6434600 13.2987217 20.3259440  4.1056059\n",
        "[211]  7.0102782 14.7358067 18.1067943 20.9250090 21.6366356 11.9939985\n",
        "[217] 19.1795725  8.4346903 21.1389688 20.2766861 20.2025741 18.2169152\n",
        "[223] 15.6797959  7.2702132 20.5634627 13.9948562 15.0380850 19.8205953\n",
        "[229]  6.7189285 16.2436449 18.0237621 13.9232180  8.7095350 16.7587589\n",
        "[235] 18.1423262 20.4485696 18.4893483 22.4754088 12.9172753  8.3579902\n",
        "[241] 20.4415264  6.9897067 13.3844686 15.9642100 16.5183534  9.6511139\n",
        "[247] 18.1343872 17.5540309 14.6238162 16.5485951\n"
       ]
      }
     ],
     "prompt_number": 39
    },
    {
     "cell_type": "markdown",
     "metadata": {},
     "source": [
      "* How many values in $y$ are within 200 of the maximum value of the terms in $y$?"
     ]
    },
    {
     "cell_type": "code",
     "collapsed": false,
     "input": [
      "%%R\n",
      "\n",
      "#The following vector has a TRUE when the following condition holds, and a FALSE otherwise\n",
      "\n",
      "ind = (max(y) - 200 < y & y < max(y))\n",
      "\n",
      "#Since FALSE has numeric value 0 and true has numeric value 1, we can sum the Boolean vector ind\n",
      "#to obtain the number of elements in y meeting the condition:\n",
      "\n",
      "result = sum(ind); print(result)\n"
     ],
     "language": "python",
     "metadata": {},
     "outputs": [
      {
       "metadata": {},
       "output_type": "display_data",
       "text": [
        "[1] 56\n"
       ]
      }
     ],
     "prompt_number": 48
    },
    {
     "cell_type": "markdown",
     "metadata": {},
     "source": [
      "* How many numbers in $x$ are divisible by 2? (Note that the modulo operator is denoted <code>%%</code>.)"
     ]
    },
    {
     "cell_type": "code",
     "collapsed": false,
     "input": [
      "%%R\n",
      "\n",
      "result = sum(x%%2 == 0); print(result)"
     ],
     "language": "python",
     "metadata": {},
     "outputs": [
      {
       "metadata": {},
       "output_type": "display_data",
       "text": [
        "[1] 124\n"
       ]
      }
     ],
     "prompt_number": 49
    },
    {
     "cell_type": "markdown",
     "metadata": {},
     "source": [
      "* Sort the numbers in the vector $x$ in the order of increasing values in $y$."
     ]
    },
    {
     "cell_type": "markdown",
     "metadata": {},
     "source": [
      "**Solution:** The function <code>order(x)</code> returns an integer vector of the same length as <code>x</code> with the positions of the elments of <code>x</code> sorted in ascenting order."
     ]
    },
    {
     "cell_type": "code",
     "collapsed": false,
     "input": [
      "%%R\n",
      "\n",
      "z = x[order(y)]; print(z)"
     ],
     "language": "python",
     "metadata": {},
     "outputs": [
      {
       "metadata": {},
       "output_type": "display_data",
       "text": [
        "  [1] 405 842 308 572 461   8 256 507 373 639  42 616  29 645 376 669 688 197\n",
        " [19]  63 638 862  77 996  93  59 585 661  72 339  20 206 537 174 322  42 603\n",
        " [37] 425  48 707 452 477  99 224 811 715 358 963 222 395 543 480 193 683 710\n",
        " [55] 691 954 700 614 787 835 275 435 309 368 224 460 497 944 530 765 523 171\n",
        " [73] 870 807 469 828 624 200 713 365 781  74 129  76 701 760 193 866 353 168\n",
        " [91] 967 545 920 541 650 148 277  18 667 865 987 120 655   1 554 699 311 458\n",
        "[109] 632  84 269  82 280 544  17 621 807 113 136 457 702  91 625 767 828 109\n",
        "[127] 860 363 121 657 668 324 382 956 299 403  74 928 415  38 127 176 678 179\n",
        "[145] 444 724 189 457 513 743   5  10 789  38 760 446 986 894 238 640 110 203\n",
        "[163] 533 113 358 977 294 137 258 577  55 708 996 863 627 123 515 359 964 324\n",
        "[181]  24 364 260 618 957  48 107 631 266 680 478 178  34 900 537 160 274 437\n",
        "[199] 285 505  19 188 190 467 852 803 517  69 399 768 545 408 676 407 972 437\n",
        "[217] 353 371 390 995 652 148 458 501 124 216 880 836 878 357 660  44 197 578\n",
        "[235] 293 324  49 646 543 256 511 525 339 263  14 257 278  61 840 956\n"
       ]
      }
     ],
     "prompt_number": 50
    },
    {
     "cell_type": "markdown",
     "metadata": {},
     "source": [
      "* Pick out the elements in $y$ at index positions $1, 4, 7, 10, 13, \\dots$ "
     ]
    },
    {
     "cell_type": "code",
     "collapsed": false,
     "input": [
      "%%R\n",
      "\n",
      "#The sequence 1,4, 10, 13, etc. increases by step of 3. \n",
      "#Let us check that n=250 is part of this sequence:\n",
      "print(n%/%3)\n",
      "print(n%%3)"
     ],
     "language": "python",
     "metadata": {},
     "outputs": [
      {
       "metadata": {},
       "output_type": "display_data",
       "text": [
        "[1] 83\n",
        "[1] 1\n"
       ]
      }
     ],
     "prompt_number": 55
    },
    {
     "cell_type": "markdown",
     "metadata": {},
     "source": [
      "Thus we have that $n=250=1 + 83*3$. So we need to generate the sequence: $1,4,10,\\dots, 250$, where each element is obtained from the previous one by addin $3$."
     ]
    },
    {
     "cell_type": "code",
     "collapsed": false,
     "input": [
      "%%R\n",
      "\n",
      "ind = seq(1, n, by=3)\n",
      "z = y[ind]; print(z)"
     ],
     "language": "python",
     "metadata": {},
     "outputs": [
      {
       "metadata": {},
       "output_type": "display_data",
       "text": [
        " [1] 709 517 437 783 671 860 581 347 279 974 216 776 538 460 985 248 317 288 687\n",
        "[20] 957 938 101 615 285 106 414 881 488 484 791 246 643 845 553 465  87 993 116\n",
        "[39] 473 635 310 428 965  19 489 803 604 800 175 516 902 689 881 593 835 398 358\n",
        "[58] 850 791 915 665 167 866 942 320 482 216 488 681 273 884 970 469 717 127 952\n",
        "[77] 284 695 325 777 792  72 738 791\n"
       ]
      }
     ],
     "prompt_number": 56
    },
    {
     "cell_type": "markdown",
     "metadata": {},
     "source": [
      "**Exercise 8**\n",
      "\n",
      "* By using the function [cumprod](http://stat.ethz.ch/R-manual/R-devel/library/base/html/cumsum.html) or otherwise, calculate\n",
      "\n",
      "$$1 + \\frac23 + \\left(\\frac23\\frac45\\right) + \\left(\\frac23\\frac45\\frac67\\right) + \\left(\\frac23\\frac45\\frac67\\dots\\frac{38}{39}\\right) $$"
     ]
    },
    {
     "cell_type": "code",
     "collapsed": false,
     "input": [
      "%%R\n",
      "\n",
      "result = 1 + sum(seq(2, 38, by=2)/seq(3, 39, by=2)); print(result)"
     ],
     "language": "python",
     "metadata": {},
     "outputs": [
      {
       "metadata": {},
       "output_type": "display_data",
       "text": [
        "[1] 18.52033\n"
       ]
      }
     ],
     "prompt_number": 57
    },
    {
     "cell_type": "code",
     "collapsed": false,
     "input": [],
     "language": "python",
     "metadata": {},
     "outputs": []
    }
   ],
   "metadata": {}
  }
 ]
}